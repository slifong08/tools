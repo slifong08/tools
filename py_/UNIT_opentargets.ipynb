{
 "cells": [
  {
   "cell_type": "code",
   "execution_count": null,
   "id": "b8429292",
   "metadata": {},
   "outputs": [],
   "source": [
    "\"\"\"\n",
    "unit test - Open Target Genetics PheWAS\n",
    "\n",
    "query open target genetics pheWAS for variant-associated traits. \n",
    "using opentarget.py script\n",
    "\n",
    "BEFORE YOU START: \n",
    "    CHANGE OPEN_TARGET_PYPATH to str w/ full path to opentarget.py module. \n",
    "\n",
    "\"\"\"\n",
    "\n",
    "import pandas as pd\n",
    "import sys\n",
    "\n",
    "OPEN_TARGET_PYPATH=<<full_path_to_opentarget.py>>\n",
    "\n",
    "sys.path.append(os.path.join(OPEN_TARGET_PYPATH, \"opentarget.py\")) \n",
    "\n",
    "import opentarget as otg \n",
    "\n",
    "# list of variants to test, str formatted as CHR_POS_REF_ALT\n",
    "\n",
    "var_list = [\"1_154453788_C_T\", \"16_23192369_C_T\"]\n",
    "\n",
    "# run the OTG pheWAS function. Returns pandas dataframe of results. \n",
    "phewas_results = otg.run_otg_phewas(var_list) \n",
    "phewas_results"
   ]
  }
 ],
 "metadata": {
  "kernelspec": {
   "display_name": "Python (sfenv)",
   "language": "python",
   "name": "sfenv"
  },
  "language_info": {
   "codemirror_mode": {
    "name": "ipython",
    "version": 3
   },
   "file_extension": ".py",
   "mimetype": "text/x-python",
   "name": "python",
   "nbconvert_exporter": "python",
   "pygments_lexer": "ipython3",
   "version": "3.6.5"
  },
  "toc": {
   "base_numbering": 1,
   "nav_menu": {},
   "number_sections": true,
   "sideBar": true,
   "skip_h1_title": false,
   "title_cell": "Table of Contents",
   "title_sidebar": "Contents",
   "toc_cell": false,
   "toc_position": {},
   "toc_section_display": true,
   "toc_window_display": false
  }
 },
 "nbformat": 4,
 "nbformat_minor": 5
}
