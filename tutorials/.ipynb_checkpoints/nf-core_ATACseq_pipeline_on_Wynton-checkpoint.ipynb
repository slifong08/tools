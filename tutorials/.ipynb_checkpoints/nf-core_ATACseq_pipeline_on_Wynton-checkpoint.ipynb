{
 "cells": [
  {
   "cell_type": "markdown",
   "id": "746edca2-c163-4ae6-b80e-a193fd28bf0a",
   "metadata": {},
   "source": [
    "# nf-core ATAC-seq pipeline \n",
    "20240711 \n",
    "\n",
    "Sarah Fong\n",
    "# How to \n",
    "1. Set up environment for running nf-core atac-seq pipeline\n",
    "2. Run nf-core ATAC-seq pipeline using parallelized jobs on Wynton\n",
    "   \n",
    "See nf-core documentation: https://nf-co.re/atacseq/2.1.2/"
   ]
  },
  {
   "cell_type": "markdown",
   "id": "83983bd6-ad70-4e26-b19b-e36a7237eb12",
   "metadata": {},
   "source": [
    "# Setting up environment"
   ]
  },
  {
   "cell_type": "markdown",
   "id": "5f5bb91b-2ebd-4c74-853d-907a85dc25eb",
   "metadata": {},
   "source": [
    "1. Add miniconda into your .bashrc (do once)\n",
    "\n",
    "        /wynton/group/ahituv/bin/miniconda3/bin/conda init bash"
   ]
  },
  {
   "cell_type": "markdown",
   "id": "4c39b3ec-70a9-45e0-957c-05098b65ba09",
   "metadata": {},
   "source": [
    "2. source the new bashrc\n",
    "\n",
    "        source ~/.bashrc "
   ]
  },
  {
   "cell_type": "markdown",
   "id": "9e296e8d-9f31-48f6-9620-7b54cade211e",
   "metadata": {},
   "source": [
    "3. create nf core virtual environment\n",
    "\n",
    "       conda create -n env_nf -f /wynton/group/ahituv/bin/pipelines/env/env_nf.yml"
   ]
  },
  {
   "cell_type": "markdown",
   "id": "da035cf7-020e-4273-9cc3-24381e26c607",
   "metadata": {},
   "source": [
    "4. activate the environment\n",
    "\n",
    "       conda activate env_nf"
   ]
  },
  {
   "cell_type": "markdown",
   "id": "18eff92b-2a2f-450b-a3d4-70a8f61339e5",
   "metadata": {},
   "source": [
    "5. make qsub output dir\n",
    "    \n",
    "        mkdir $HOME/qsub_log/"
   ]
  },
  {
   "cell_type": "markdown",
   "id": "87bd2fe4-cfe9-4c73-af03-d97ec5869d5b",
   "metadata": {},
   "source": [
    "# Run nf-core ATAC-seq pipeline"
   ]
  },
  {
   "cell_type": "markdown",
   "id": "30aca8a0-913b-43d5-9930-29b10bcfe46d",
   "metadata": {},
   "source": [
    "## Make sample.csv\n",
    "   \n",
    "    2. headers: sample,fastq_1,fastq_2,replicate\n",
    "        3. sample: sample label (e.g. control/treated)\n",
    "        4. fastq_1: PE file 1\n",
    "        5. fastq_2: PE file 2"
   ]
  },
  {
   "cell_type": "markdown",
   "id": "1c8443fe-2d91-46cb-9d5e-c55078bac716",
   "metadata": {},
   "source": [
    "    example:\n",
    "\n",
    "            sample,fastq_1,fastq_2,replicate\n",
    "            control,/wynton/group/ahituv/fongsl/projects/EMF/data/ATAC/WTC11NGN2.1/./ctrl1/ctrl1_CKDL240018717-1A_HHC5NDSXC\n",
    "            _L2_1.fq.gz,/wynton/group/ahituv/fongsl/projects/EMF/data/ATAC/WTC11NGN2.1/./ctrl1/ctrl1_CKDL240018717-1A_HHC5N\n",
    "            DSXC_L2_2.fq.gz,1\n",
    "            control,/wynton/group/ahituv/fongsl/projects/EMF/data/ATAC/WTC11NGN2.1/./ctrl3/ctrl3_CKDL240018718-1A_HHC5NDSXC\n",
    "            _L2_1.fq.gz,/wynton/group/ahituv/fongsl/projects/EMF/data/ATAC/WTC11NGN2.1/./ctrl3/ctrl3_CKDL240018718-1A_HHC5N\n",
    "            DSXC_L2_2.fq.gz,2\n",
    "            control,/wynton/group/ahituv/fongsl/projects/EMF/data/ATAC/WTC11NGN2.1/./ctrl4/ctrl4_CKDL240018719-1A_HHC5NDSXC\n",
    "            _L2_1.fq.gz,/wynton/group/ahituv/fongsl/projects/EMF/data/ATAC/WTC11NGN2.1/./ctrl4/ctrl4_CKDL240018719-1A_HHC5N\n",
    "            DSXC_L2_2.fq.gz,3\n",
    "            PEMF,/wynton/group/ahituv/fongsl/projects/EMF/data/ATAC/WTC11NGN2.1/./PEMF1/PEMF1_CKDL240018720-1A_HHC5NDSXC_L2\n",
    "            _1.fq.gz,/wynton/group/ahituv/fongsl/projects/EMF/data/ATAC/WTC11NGN2.1/./PEMF1/PEMF1_CKDL240018720-1A_HHC5NDSX\n",
    "            C_L2_2.fq.gz,1\n",
    "            PEMF,/wynton/group/ahituv/fongsl/projects/EMF/data/ATAC/WTC11NGN2.1/./PEMF2/PEMF2_CKDL240018721-1A_HHC5NDSXC_L2\n",
    "            _1.fq.gz,/wynton/group/ahituv/fongsl/projects/EMF/data/ATAC/WTC11NGN2.1/./PEMF2/PEMF2_CKDL240018721-1A_HHC5NDSX\n",
    "            C_L2_2.fq.gz,2\n",
    "            PEMF,/wynton/group/ahituv/fongsl/projects/EMF/data/ATAC/WTC11NGN2.1/./PEMF3/PEMF3_CKDL240018722-1A_HHC5NDSXC_L2\n",
    "            _1.fq.gz,/wynton/group/ahituv/fongsl/projects/EMF/data/ATAC/WTC11NGN2.1/./PEMF3/PEMF3_CKDL240018722-1A_HHC5NDSX\n",
    "            C_L2_2.fq.gz,3\n",
    "            PEMF,/wynton/group/ahituv/fongsl/projects/EMF/data/ATAC/WTC11NGN2.1/./PEMF4/PEMF4_CKDL240018723-1A_HHC5NDSXC_L2\n",
    "            _1.fq.gz,/wynton/group/ahituv/fongsl/projects/EMF/data/ATAC/WTC11NGN2.1/./PEMF4/PEMF4_CKDL240018723-1A_HHC5NDSX\n",
    "            C_L2_2.fq.gz,4\n",
    "       "
   ]
  },
  {
   "cell_type": "markdown",
   "id": "f78579c0-6c9b-4107-bd08-ebf16f203a69",
   "metadata": {},
   "source": [
    "##### Save this in a directory that you can find again later!!"
   ]
  },
  {
   "cell_type": "markdown",
   "id": "8d306436-a7e7-4b69-99e4-3cd48d3a1475",
   "metadata": {},
   "source": [
    "## Fill in variables — sample_file, outdir\n",
    "- Run parallelized SGE pipeline with nfcore-atac-wynton.sh \n",
    "- NOTE: If your dataset is larger than 8 samples you will need to increase the L_RT time variable \n",
    "- For more info on parallel job submission, see https://wynton.ucsf.edu/hpc/scheduler/submit-jobs.html"
   ]
  },
  {
   "cell_type": "code",
   "execution_count": 1,
   "id": "01458828-165b-4903-af89-b0c9fed288e2",
   "metadata": {},
   "outputs": [
    {
     "name": "stdout",
     "output_type": "stream",
     "text": [
      "qsub -pe smp 4 -l mem_free=8G nfcore-atac-wynton.sh /wynton/group/ahituv/fongsl/projects/EMF/data/ATAC/WTC11NGN2.1/samples.csv  /wynton/group/ahituv/fongsl/projects/EMF/results/ATAC 150\n"
     ]
    }
   ],
   "source": [
    "# Input/output files\n",
    "SAMPLE_FILE =  # <<FULL_PATH_TO_SAMPLE_FILE>>\n",
    "# e.g. SAMPLE_FILE = \"/wynton/group/ahituv/fongsl/projects/EMF/data/ATAC/WTC11NGN2.1/samples.csv\"\n",
    "\n",
    "OUTDIR =  # <<FULL_PATH_TO_OUTPUT_DIRECTORY>>\n",
    "# e.g. OUTDIR = \"/wynton/group/ahituv/fongsl/projects/EMF/results/ATAC\"\n",
    "\n",
    "\n",
    "# Sequencing params\n",
    "READ_LEN = 150  # PE is 150bp\n",
    "\n",
    "\n",
    "# Wynton params\n",
    "N_SLOTS = 8  # n slots to run in parallel \n",
    "MEM_PER_SLOT = 8  # Gb per slot. If 8 slots at 8G/slot = 64G total\n",
    "SH_QSUB_SCRIPT = \"/wynton/group/ahituv/bin/pipelines/nf-core-atacseq-dev/nfcore-atac-wynton.sh\"  # custom script to run nf-core ATAC-seq pipeline\n",
    "H_RT=08:20:00   # amount of time, HH:MM:SS\n",
    "\n",
    "\n",
    "# put the command together. \n",
    "cmd = f\"qsub -pe smp {N_SLOTS} -l mem_free={MEM_PER_SLOT}G -l h_rt={H_RT} {SH_QSUB_SCRIPT} {SAMPLE_FILE} {OUTDIR} {READ_LEN}\"\n",
    "\n",
    "# the pipeline command\n",
    "print(cmd)"
   ]
  },
  {
   "cell_type": "markdown",
   "id": "9ca7dfc7-10b6-4c60-bcd5-a25b9edd72d1",
   "metadata": {},
   "source": [
    "### e.g. \n",
    "\n",
    "    qsub -pe smp 4 -l mem_free=8G nfcore-atac-wynton.sh /wynton/group/ahituv/fongsl/projects/EMF/data/ATAC/WTC11NGN2.1/samples.csv  /wynton/group/ahituv/fongsl/projects/EMF/results/ATAC 150"
   ]
  },
  {
   "cell_type": "markdown",
   "id": "d44200e9-22c0-4a46-8906-5b4db59e6918",
   "metadata": {},
   "source": [
    "### copy the command above and run in command line. "
   ]
  },
  {
   "cell_type": "markdown",
   "id": "fd80e84b-6b62-4108-83cd-3e4e54fb8222",
   "metadata": {},
   "source": [
    "if increasing time argument"
   ]
  }
 ],
 "metadata": {
  "kernelspec": {
   "display_name": "Python 3 (ipykernel)",
   "language": "python",
   "name": "python3"
  },
  "language_info": {
   "codemirror_mode": {
    "name": "ipython",
    "version": 3
   },
   "file_extension": ".py",
   "mimetype": "text/x-python",
   "name": "python",
   "nbconvert_exporter": "python",
   "pygments_lexer": "ipython3",
   "version": "3.11.9"
  }
 },
 "nbformat": 4,
 "nbformat_minor": 5
}
