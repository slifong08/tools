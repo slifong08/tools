{
 "cells": [
  {
   "cell_type": "markdown",
   "id": "aa78a161-b31b-4b85-982a-9e7114935981",
   "metadata": {},
   "source": [
    "# Liftover on Wynton\n",
    "20240610\n",
    "\n",
    "\n",
    "SarahFong\n",
    "\n",
    "This notebook demonstrates how I run liftOver on bed files. "
   ]
  },
  {
   "cell_type": "markdown",
   "id": "1f15759d-6701-4230-96d5-f9851b329a23",
   "metadata": {},
   "source": [
    "## script\n",
    "The script lives on wynton here: \n",
    "        \n",
    "        /wynton/group/ahituv/bin/liftover_bed-wynton.py"
   ]
  },
  {
   "cell_type": "markdown",
   "id": "cca2e772-5669-4137-987a-17167b2bfed8",
   "metadata": {},
   "source": [
    "## inputs \n",
    "To run, this script takes three inputs:  \n",
    "1. a bed file of genome coordinates\n",
    "2. name of the original genome build\n",
    "3. name of genome build you want to transfer your coordinates to.\n",
    "\n",
    "\n",
    "       e.g.\n",
    "           mydata.bed    hg38    Hs1"
   ]
  },
  {
   "cell_type": "markdown",
   "id": "dab54015-9431-44d0-856f-36788a7e164b",
   "metadata": {},
   "source": [
    "## Run liftOver! \n",
    "e.g. if I wanted to liftover a file from hg38 to hs1 (T2T)  I would run the command:\n",
    "\n",
    "    python /wynton/group/ahituv/bin/liftover_bed-wynton.py <<mydata.bed>> hg38 hs1"
   ]
  },
  {
   "cell_type": "markdown",
   "id": "83ea8239-84ac-4b22-836f-0bacdcbf7acc",
   "metadata": {},
   "source": [
    "### Run other chain files (not already downloaded)\n",
    "e.g. I want to liftover to a new species with a new chain file (new.chain.gz) \n",
    "\n",
    "    python /wynton/group/ahituv/bin/liftover_bed-wynton.py <<mydata.bed>> hg38 newspecies -c <</wynton/../new.chain.gz\n",
    "\n",
    "### Run with different mismatch rate\n",
    "\n",
    "e.g. mismatch of 0.1 instead of 0.95 aligning bases\n",
    "\n",
    "    python /wynton/group/ahituv/bin/liftover_bed-wynton.py <<mydata.bed>> hg38 hs1 -m 0.1"
   ]
  },
  {
   "cell_type": "markdown",
   "id": "c56d869b-243d-428a-a944-14b19325b574",
   "metadata": {},
   "source": [
    "## Where to find species chain files?\n",
    "\n",
    "1. check in the shared databases on Wynton for hg38, hg19, mm10, mm9 (from) chain files to other species\n",
    "\n",
    "       /wynton/group/databases/goldenPath/hg38\n",
    "       /wynton/group/databases/goldenPath/hg19\n",
    "       /wynton/group/databases/goldenPath/mm10\n",
    "       /wynton/group/databases/goldenPath/mm9\n",
    "\n",
    "\n",
    "       e.g. from hg38 to Galgal6 : /wynton/group/databases/goldenPath/hg38/vsGalGal6/hg38.galGal6.all.chain.gz\n",
    "\n",
    "3. check the Ahituv group folder for chain files that we have made or downloaded independently\n",
    "\n",
    "       /wynton/group/ahituv/data/dna/\n",
    "3. check UCSC genome fileserver for human, mouse, other species chain files\n",
    "    1. https://hgdownload.soe.ucsc.edu/gbdb/hs1/hgLiftOver/\n",
    "    1. https://hgdownload.soe.ucsc.edu/goldenPath/hg38/liftOver/\n",
    "       \n",
    "4. check Hiller lab for bat chain files\n",
    "    1. 6 bat species (Jebb 2020) - https://bds.mpi-cbg.de/hillerlab/Bat1KPilotProject/GenomeAlignments/\n",
    "\n",
    "This should work for most common species (e.g. mm9, rhemac10), but if your species isn't here, message me and we can setup the liftover and  chain file for your species."
   ]
  },
  {
   "cell_type": "code",
   "execution_count": null,
   "id": "714b36b3-17af-4cb1-8954-b5cad127f9b8",
   "metadata": {},
   "outputs": [],
   "source": []
  }
 ],
 "metadata": {
  "kernelspec": {
   "display_name": "Python 3 (ipykernel)",
   "language": "python",
   "name": "python3"
  },
  "language_info": {
   "codemirror_mode": {
    "name": "ipython",
    "version": 3
   },
   "file_extension": ".py",
   "mimetype": "text/x-python",
   "name": "python",
   "nbconvert_exporter": "python",
   "pygments_lexer": "ipython3",
   "version": "3.11.5"
  }
 },
 "nbformat": 4,
 "nbformat_minor": 5
}
