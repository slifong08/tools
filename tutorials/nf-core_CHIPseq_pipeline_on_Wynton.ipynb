{
 "cells": [
  {
   "cell_type": "markdown",
   "id": "16355ccb-cbb7-4c2a-b7b6-2aa26313e178",
   "metadata": {},
   "source": [
    "# nf-core CHIP-seq pipeline \n",
    "20240715 \n",
    "\n",
    "Sarah Fong\n",
    "# How to \n",
    "1. Set up environment for running nf-core chip-seq pipeline\n",
    "2. Run nf-core CHIP-seq pipeline using parallelized jobs on Wynton\n",
    "   \n",
    "See nf-core documentation: https://nf-co.re/chipseq/2.0.0/"
   ]
  },
  {
   "cell_type": "markdown",
   "id": "652bd1eb-3405-4b1e-bb6b-c0a83d50afb4",
   "metadata": {},
   "source": [
    "2. run the pipeline once through the command line while connceted to the internet (i.e. NOT in a job submission!)"
   ]
  },
  {
   "cell_type": "markdown",
   "id": "83983bd6-ad70-4e26-b19b-e36a7237eb12",
   "metadata": {},
   "source": [
    "# Setting up environment"
   ]
  },
  {
   "cell_type": "markdown",
   "id": "5f5bb91b-2ebd-4c74-853d-907a85dc25eb",
   "metadata": {},
   "source": [
    "1. Add miniconda into your .bashrc (do once)\n",
    "\n",
    "        /wynton/group/ahituv/bin/miniconda3/bin/conda init bash"
   ]
  },
  {
   "cell_type": "markdown",
   "id": "4c39b3ec-70a9-45e0-957c-05098b65ba09",
   "metadata": {},
   "source": [
    "2. source the new bashrc\n",
    "\n",
    "        source ~/.bashrc "
   ]
  },
  {
   "cell_type": "markdown",
   "id": "9e296e8d-9f31-48f6-9620-7b54cade211e",
   "metadata": {},
   "source": [
    "3. create nf core virtual environment\n",
    "\n",
    "       conda env create -n env_nf -f /wynton/group/ahituv/bin/pipelines/env/env_nf.yml"
   ]
  },
  {
   "cell_type": "markdown",
   "id": "da035cf7-020e-4273-9cc3-24381e26c607",
   "metadata": {},
   "source": [
    "4. activate the environment\n",
    "\n",
    "       conda activate env_nf"
   ]
  },
  {
   "cell_type": "markdown",
   "id": "4fac65aa-1d8a-4d09-a8b1-78c406cd0177",
   "metadata": {},
   "source": [
    "5. make qsub output dir\n",
    "    \n",
    "        mkdir $HOME/qsub_log/"
   ]
  },
  {
   "cell_type": "markdown",
   "id": "87bd2fe4-cfe9-4c73-af03-d97ec5869d5b",
   "metadata": {},
   "source": [
    "# Run nf-core ATAC-seq pipeline"
   ]
  },
  {
   "cell_type": "markdown",
   "id": "bab08a17-9474-422d-b476-21e115cc3e70",
   "metadata": {},
   "source": [
    "## if running pipeline for the first time, you need to do the following steps:\n",
    "1. export the nf_singluarity_cache\n",
    "   \n",
    "       export $NXF_SINGULARITY_CACHEDIR=/wynton/group/ahituv/bin/pipelines/singularity-cache"
   ]
  },
  {
   "cell_type": "markdown",
   "id": "1537ace9-8c4d-445c-aae0-140f166ed187",
   "metadata": {},
   "source": [
    "2. do test run\n",
    "\n",
    "        nextflow run /wynton/group/ahituv/bin/pipelines/nf-core-chipseq-dev/workflow/main.nf -profile test,singularity --outdir /wynton/group/ahituv/bin/pipelines/nf-core-chipseq-dev/test --igenomes_base /wynton/group/ahituv/bin/pipelines/igenomes/references --aligner bowtie2"
   ]
  },
  {
   "cell_type": "markdown",
   "id": "4c7f3202-caf1-469c-b04c-9d64310a65fd",
   "metadata": {},
   "source": [
    "3. copy ./work/singularity/* to cache_dir\n",
    "\n",
    "       cp ./work/singularity/* /wynton/group/ahituv/bin/pipelines/singularity-cache/"
   ]
  },
  {
   "cell_type": "markdown",
   "id": "30aca8a0-913b-43d5-9930-29b10bcfe46d",
   "metadata": {},
   "source": [
    "## Make sample.csv\n",
    "   \n",
    "   - headers: sample,fastq_1,fastq_2,replicate,antibody,control,control_replicate\n",
    "        - sample: sample label (e.g. control/treated)\n",
    "        - fastq_1: PE file 1\n",
    "        - fastq_2: PE file 2\n",
    "        - replicate: replicate number\n",
    "        - antibody: antibody used, if any\n",
    "        - control: if antibody used, specific which control"
   ]
  },
  {
   "cell_type": "markdown",
   "id": "1c8443fe-2d91-46cb-9d5e-c55078bac716",
   "metadata": {},
   "source": [
    "    example:\n",
    "\n",
    "    # head /wynton/group/ahituv/fongsl/projects/EMF/data/ChIP/samples.csv\n",
    "    \n",
    "    sample,fastq1,fastq2,Antibody,Control\n",
    "    H3K27ac_noPEMF_1,/wynton/group/ahituv/fongsl/projects/EMF/data/ChIP/01.RawData/H3K27ac_noPEMF_1/H3K27ac_noPEMF_1_CKDL240022566-1A_22CCGWLT4_L7_1.fq.gz,/wynton/group/ahituv/fongsl/projects/EMF/data/ChIP/01.RawData/H3K27ac_noPEMF_1/H3K27ac_noPEMF_1_CKDL240022566-1A_22CCGWLT4_L7_2.fq.gz,H3K27ac,input_noPEMF_1\n",
    "    H3K27ac_noPEMF_2,/wynton/group/ahituv/fongsl/projects/EMF/data/ChIP/01.RawData/H3K27ac_noPEMF_2/H3K27ac_noPEMF_2_CKDL240022566-1A_22CCGWLT4_L7_1.fq.gz,/wynton/group/ahituv/fongsl/projects/EMF/data/ChIP/01.RawData/H3K27ac_noPEMF_2/H3K27ac_noPEMF_2_CKDL240022566-1A_22CCGWLT4_L7_2.fq.gz,H3K27ac,input_noPEMF_2\n",
    "    H3K27ac_noPEMF_3,/wynton/group/ahituv/fongsl/projects/EMF/data/ChIP/01.RawData/H3K27ac_noPEMF_3/H3K27ac_noPEMF_3_CKDL240022566-1A_22CCGWLT4_L7_1.fq.gz,/wynton/group/ahituv/fongsl/projects/EMF/data/ChIP/01.RawData/H3K27ac_noPEMF_3/H3K27ac_noPEMF_3_CKDL240022566-1A_22CCGWLT4_L7_2.fq.gz,H3K27ac,input_noPEMF_3\n",
    "    H3K27ac_PEMF_1,/wynton/group/ahituv/fongsl/projects/EMF/data/ChIP/01.RawData/H3K27ac_PEMF_1/H3K27ac_PEMF_1_CKDL240022566-1A_22CCGWLT4_L7_1.fq.gz,/wynton/group/ahituv/fongsl/projects/EMF/data/ChIP/01.RawData/H3K27ac_PEMF_1/H3K27ac_PEMF_1_CKDL240022566-1A_22CCGWLT4_L7_2.fq.gz,H3K27ac,input_PEMF_1\n",
    "       "
   ]
  },
  {
   "cell_type": "markdown",
   "id": "f78579c0-6c9b-4107-bd08-ebf16f203a69",
   "metadata": {},
   "source": [
    "##### Save this in a directory that you can find again later!!"
   ]
  },
  {
   "cell_type": "markdown",
   "id": "8d306436-a7e7-4b69-99e4-3cd48d3a1475",
   "metadata": {},
   "source": [
    "## Fill out the following variables\n",
    "- Run parallelized SGE pipeline with nfcore-atac-wynton.sh \n",
    "- NOTE: If your dataset is larger than 8 samples you will need to increase the L_RT time variable \n",
    "- For more info on parallel job submission, see https://wynton.ucsf.edu/hpc/scheduler/submit-jobs.html"
   ]
  },
  {
   "cell_type": "code",
   "execution_count": 1,
   "id": "05061375-88ef-4fc0-afbc-a70f0cf723f1",
   "metadata": {},
   "outputs": [],
   "source": [
    "import os, sys"
   ]
  },
  {
   "cell_type": "markdown",
   "id": "ab64fe74-541d-4c71-9d35-e524c5a34534",
   "metadata": {},
   "source": [
    "## Run nextflow with parallelized Wynton SGE job "
   ]
  },
  {
   "cell_type": "code",
   "execution_count": 3,
   "id": "01458828-165b-4903-af89-b0c9fed288e2",
   "metadata": {},
   "outputs": [
    {
     "name": "stdout",
     "output_type": "stream",
     "text": [
      "qsub -pe smp 8 -l mem_free=8G -l h_rt=08:20:00 /wynton/group/ahituv/bin/pipelines/nf-core-chipseq-dev/nfcore-chip-wynton.sh /wynton/group/ahituv/fongsl/projects/EMF/data/ChIP/samples.csv /wynton/group/ahituv/fongsl/projects/EMF/results/ChIP/WTC11NGN2/ 150\n"
     ]
    }
   ],
   "source": [
    "# Input/output files\n",
    "SAMPLE_FILE =  \"/wynton/group/ahituv/fongsl/projects/EMF/data/ChIP/samples.csv\" # <<FULL_PATH_TO_SAMPLE_FILE>>\n",
    "# e.g. SAMPLE_FILE = \"/wynton/group/ahituv/fongsl/projects/EMF/data/ATAC/WTC11NGN2.1/samples.csv\"\n",
    "\n",
    "OUTDIR = \"/wynton/group/ahituv/fongsl/projects/EMF/results/ChIP/WTC11NGN2/\" # <<FULL_PATH_TO_OUTPUT_DIRECTORY>>\n",
    "# e.g. OUTDIR = \"/wynton/group/ahituv/fongsl/projects/EMF/results/ATAC\"\n",
    "\n",
    "\n",
    "# Sequencing params\n",
    "READ_LEN = 150  # PE is 150bp\n",
    "\n",
    "\n",
    "# Wynton params\n",
    "N_SLOTS = 8  # n slots to run in parallel \n",
    "MEM_PER_SLOT = 8  # Gb per slot. If 8 slots at 8G/slot = 64G total\n",
    "SH_QSUB_SCRIPT = \"/wynton/group/ahituv/bin/pipelines/nf-core-chipseq-dev/nfcore-chip-wynton.sh\"  # custom script to run nf-core ATAC-seq pipeline\n",
    "H_RT=\"08:20:00\"   # amount of time, HH:MM:SS\n",
    "\n",
    "\n",
    "# put the command together. \n",
    "cmd = f\"qsub -pe smp {N_SLOTS} -l mem_free={MEM_PER_SLOT}G -l h_rt={H_RT} {SH_QSUB_SCRIPT} {SAMPLE_FILE} {OUTDIR} {READ_LEN}\"\n",
    "\n",
    "# the pipeline command\n",
    "print(cmd)"
   ]
  },
  {
   "cell_type": "markdown",
   "id": "ff6acc10-aa65-4efd-8ac7-5cf2496b38af",
   "metadata": {},
   "source": [
    "### copy the command above and run in command line. \n",
    "\n",
    "if increasing time argument"
   ]
  },
  {
   "cell_type": "markdown",
   "id": "253e71f1-dbb6-4d6e-8a40-587194c0bef9",
   "metadata": {},
   "source": [
    "## Alternative - Run nextflow from the command line"
   ]
  },
  {
   "cell_type": "code",
   "execution_count": 8,
   "id": "310b63e8-6e64-4aff-b79f-dc4179bd98c8",
   "metadata": {},
   "outputs": [
    {
     "name": "stdout",
     "output_type": "stream",
     "text": [
      "NXF_CONDA_CACHEDIR=/wynton/group/ahituv/bin/pipelines/singularity-cache/\n",
      "nextflow run /wynton/group/ahituv/bin/pipelines/nf-core-chipseq-dev/workflow/                 --input /wynton/group/ahituv/fongsl/projects/EMF/data/ChIP/samples.csv                 --outdir /wynton/group/ahituv/fongsl/projects/EMF/results/ChIP/WTC11NGN2/                 --fasta /wynton/group/ahituv/data/dna/hg38/hg38.fa.gz                 --gtf /wynton/group/ahituv/data/dna/hg38/hg38.knownGene.gtf.gz                 --genome GRCh38                 --read_length 150                  -profile singularity                 --narrow_peak                 --container-cache-utilisation amend                 --igenomes_base /wynton/group/ahituv/bin/pipelines/igenomes/references                 --aligner bowtie2                 -resume\n"
     ]
    }
   ],
   "source": [
    "# if running in command line - set cachedir \n",
    "NXF_CONDA_CACHEDIR=\"/wynton/group/ahituv/bin/pipelines/singularity-cache/\"\n",
    "set_cachedir = f\"NXF_CONDA_CACHEDIR={NXF_CONDA_CACHEDIR}\"\n",
    "print(set_cachedir)\n",
    "\n",
    "\n",
    "cmd_cmdline = f\"nextflow run /wynton/group/ahituv/bin/pipelines/nf-core-chipseq-dev/workflow/ \\\n",
    "                --input {SAMPLE_FILE} \\\n",
    "                --outdir {OUTDIR} \\\n",
    "                --fasta /wynton/group/ahituv/data/dna/hg38/hg38.fa.gz \\\n",
    "                --gtf /wynton/group/ahituv/data/dna/hg38/hg38.knownGene.gtf.gz \\\n",
    "                --genome GRCh38 \\\n",
    "                --read_length {READ_LEN}  \\\n",
    "                -profile singularity \\\n",
    "                --narrow_peak \\\n",
    "                --container-cache-utilisation amend \\\n",
    "                --igenomes_base /wynton/group/ahituv/bin/pipelines/igenomes/references \\\n",
    "                --aligner bowtie2 \\\n",
    "                -resume\"\n",
    "print(cmd_cmdline)"
   ]
  },
  {
   "attachments": {},
   "cell_type": "markdown",
   "id": "8cbf4620-132f-4581-bf4b-93faa90d2952",
   "metadata": {},
   "source": [
    "### copy the command above and run in command line. \n",
    "\n",
    "if increasing time argument"
   ]
  },
  {
   "cell_type": "code",
   "execution_count": null,
   "id": "f9062261-2c92-4ec9-a313-a36bba0027d1",
   "metadata": {},
   "outputs": [],
   "source": []
  }
 ],
 "metadata": {
  "kernelspec": {
   "display_name": "Python 3 (ipykernel)",
   "language": "python",
   "name": "python3"
  },
  "language_info": {
   "codemirror_mode": {
    "name": "ipython",
    "version": 3
   },
   "file_extension": ".py",
   "mimetype": "text/x-python",
   "name": "python",
   "nbconvert_exporter": "python",
   "pygments_lexer": "ipython3",
   "version": "3.11.9"
  }
 },
 "nbformat": 4,
 "nbformat_minor": 5
}
