{
 "cells": [
  {
   "cell_type": "markdown",
   "id": "90a9ca00-18c2-45fb-86a5-2a9b9262de49",
   "metadata": {},
   "source": [
    "# processing ATAC-seq data with ENCODE pipeline on wynton\n",
    "\n",
    "SarahFong\n",
    "\n",
    "20240610\n",
    "\n",
    "My goal is to implement ENCODE's ATAC-seq pipeline following the guidelines published here:\n",
    "\n",
    "- Overview - https://www.encodeproject.org/atac-seq/\n",
    "  \n",
    "- Github pipeline - https://github.com/ENCODE-DCC/atac-seq-pipeline/tree/master"
   ]
  },
  {
   "cell_type": "markdown",
   "id": "15a29eb3-1586-4949-a4b3-14cddf2e208c",
   "metadata": {},
   "source": [
    "# setup pipeline for run\n",
    "- Make a virtual environment\n",
    "- Follow ENCODE ATAC-seq pipeline install instructions on GitHub\n",
    "    - i.e. from 'pip install caper' step onwards"
   ]
  },
  {
   "cell_type": "markdown",
   "id": "5ea942cc-8d45-452e-9542-502de6d95703",
   "metadata": {},
   "source": [
    "0. Create virtual environment\n",
    "\n",
    "        micromamba create -n atac python=3.9 nextflow nf-core"
   ]
  },
  {
   "cell_type": "markdown",
   "id": "74941017-df12-4edb-a02c-88fcf1de9752",
   "metadata": {},
   "source": [
    "1. Activate the virtual environment and add channels\n",
    "\n",
    "        micromamba active atac"
   ]
  },
  {
   "cell_type": "markdown",
   "id": "b3de7958-bdc7-4597-a881-067bcb52a1f6",
   "metadata": {},
   "source": [
    "A. append channels\n",
    "\n",
    "        micromamba config append channels defaults --env\n",
    "        micromamba config append channels bioconda --env\n",
    "        micromamba config append channels conda-forge --env\n",
    "\n",
    "B. add cache path to .bash_profile\n",
    "\n",
    "       cd $HOME\n",
    "       emacs ./.bash_profile\n",
    "\n",
    "       # add line\n",
    "       NXF_SINGULARITY_CACHEDIR = $HOME/nf_cache\n",
    "\n",
    "       # make dir\n",
    "        mkdir $HOME/nf_cache"
   ]
  },
  {
   "cell_type": "markdown",
   "id": "7513862b-4c65-457b-94fa-1f3213ad818d",
   "metadata": {},
   "source": [
    "2. Install caper\n",
    "\n",
    "        pip install caper"
   ]
  },
  {
   "cell_type": "markdown",
   "id": "9cd45f56-7c0d-47da-bd2d-db589267c433",
   "metadata": {},
   "source": [
    "3. set wynton background HPC background (SGE: Sun Grid Engine)\n",
    "    \n",
    "        caper init sge "
   ]
  },
  {
   "cell_type": "markdown",
   "id": "1a7735e8-4daf-4ee1-ba78-bbf3c86489f6",
   "metadata": {},
   "source": [
    "4. clone ATAC-seq pipeline \n",
    "\n",
    "        cd /wynton/group/ahituv/bin/pipelines\n",
    "\n",
    "        git clone https://github.com/ENCODE-DCC/atac-seq-pipeline"
   ]
  },
  {
   "cell_type": "markdown",
   "id": "0a467a94-3ae2-4d31-b09b-10bc64ce6ee6",
   "metadata": {},
   "source": [
    "5. define INPUT_JSON config as variable in command line\n",
    "\n",
    "       INPUT_JSON=\"https://storage.googleapis.com/encode-pipeline-test-samples/encode-atac-seq-pipeline/ENCSR356KRQ_subsampled.json\""
   ]
  },
  {
   "cell_type": "markdown",
   "id": "a4acd4f0-534e-44fb-b283-982515e90206",
   "metadata": {},
   "source": [
    "6. Test run using Wynton's Apptainer/Singularity linux container\n",
    "\n",
    "        cd /wynton/group/ahituv/bin/pipelines/atac-seq-pipeline\n",
    "   \n",
    "        # check if Singularity works on your machine\n",
    "        $ singularity exec docker://ubuntu:latest echo hello\n",
    "        \n",
    "        # on your local machine (--max-concurrent-tasks 1 is for computers with limited resources)\n",
    "        $ caper run atac.wdl -i \"${INPUT_JSON}\" --singularity --max-concurrent-tasks 1\n",
    "        \n",
    "        # on HPC, make sure that Caper's conf ~/.caper/default.conf is correctly configured to work with your HPC\n",
    "        # the following command will submit Caper as a leader job to SLURM with Singularity\n",
    "        $ caper hpc submit atac.wdl -i \"${INPUT_JSON}\" --singularity --leader-job-name ANY_GOOD_LEADER_JOB_NAME\n",
    "        \n",
    "        # check job ID and status of your leader jobs\n",
    "        $ caper hpc list\n",
    "        \n",
    "        # cancel the leader node to close all of its children jobs\n",
    "        # If you directly use cluster command like scancel or qdel then\n",
    "        # child jobs will not be terminated\n",
    "        $ caper hpc abort [JOB_ID]"
   ]
  },
  {
   "cell_type": "markdown",
   "id": "b487a408-99f1-4bf5-8ee9-6d98313cbdfd",
   "metadata": {},
   "source": [
    "## Configure inputs\n",
    "- Do BEFORE every run"
   ]
  },
  {
   "cell_type": "markdown",
   "id": "a642b3f5-f9b5-49c4-aebb-51972daf67a3",
   "metadata": {},
   "source": [
    "## JSON\n",
    "- Make JSON file following instructions - https://github.com/ENCODE-DCC/atac-seq-pipeline/blob/master/docs/input_short.md\n",
    "    - Template.json file - https://github.com/ENCODE-DCC/atac-seq-pipeline/blob/master/example_input_json/template.json "
   ]
  },
  {
   "cell_type": "code",
   "execution_count": 3,
   "id": "88614f7e-e54a-4b2f-b9b8-da534103be1b",
   "metadata": {},
   "outputs": [],
   "source": [
    "import os, sys\n",
    "import glob\n",
    "import json"
   ]
  },
  {
   "cell_type": "code",
   "execution_count": 5,
   "id": "980dbb01-e3fe-4c6e-8020-6f900d9940a6",
   "metadata": {},
   "outputs": [],
   "source": [
    "# PARAMS\n",
    "PROJECT_NAME = \"WTC11.NGN2.1.PEMF\"\n",
    "PIPELINE_PATH=\"/wynton/group/ahituv/bin/pipelines/ENCODE-atacseq-pipeline\"\n",
    "DATA_PATH_REP1 = \"/wynton/group/ahituv/fongsl/projects/EMF/data/ATAC/WTC11NGN2.1\"  # one biological replicate\n",
    "JSON_FILE = os.path.join(DATA_PATH_REP1, PROJECT_NAME + \".json\")\n",
    "\n",
    "ILLUMINA_ADAPTER = \"AGATCGGAAGAGC\""
   ]
  },
  {
   "cell_type": "code",
   "execution_count": null,
   "id": "b95a2cc4-3b90-4ba4-ac3a-b988e80b14bb",
   "metadata": {},
   "outputs": [],
   "source": [
    "# get fastq files\n",
    "os.chdir(DATA_PATH_REP1)\n",
    "unsorted_fastqs = glob.glob(\"./**/*.fq.gz\", recursive=True)\n",
    "unsorted_fastqs"
   ]
  },
  {
   "cell_type": "code",
   "execution_count": 14,
   "id": "11aa4035-87e8-477d-b835-3588ae80c351",
   "metadata": {},
   "outputs": [
    {
     "data": {
      "text/plain": [
       "(['/wynton/group/ahituv/fongsl/projects/EMF/data/ATAC/WTC11NGN2.1/./ctrl1/ctrl1_CKDL240018717-1A_HHC5NDSXC_L2_1.fq.gz',\n",
       "  '/wynton/group/ahituv/fongsl/projects/EMF/data/ATAC/WTC11NGN2.1/./ctrl3/ctrl3_CKDL240018718-1A_HHC5NDSXC_L2_1.fq.gz',\n",
       "  '/wynton/group/ahituv/fongsl/projects/EMF/data/ATAC/WTC11NGN2.1/./ctrl4/ctrl4_CKDL240018719-1A_HHC5NDSXC_L2_1.fq.gz',\n",
       "  '/wynton/group/ahituv/fongsl/projects/EMF/data/ATAC/WTC11NGN2.1/./PEMF1/PEMF1_CKDL240018720-1A_HHC5NDSXC_L2_1.fq.gz',\n",
       "  '/wynton/group/ahituv/fongsl/projects/EMF/data/ATAC/WTC11NGN2.1/./PEMF2/PEMF2_CKDL240018721-1A_HHC5NDSXC_L2_1.fq.gz',\n",
       "  '/wynton/group/ahituv/fongsl/projects/EMF/data/ATAC/WTC11NGN2.1/./PEMF3/PEMF3_CKDL240018722-1A_HHC5NDSXC_L2_1.fq.gz',\n",
       "  '/wynton/group/ahituv/fongsl/projects/EMF/data/ATAC/WTC11NGN2.1/./PEMF4/PEMF4_CKDL240018723-1A_HHC5NDSXC_L2_1.fq.gz'],\n",
       " ['/wynton/group/ahituv/fongsl/projects/EMF/data/ATAC/WTC11NGN2.1/./ctrl1/ctrl1_CKDL240018717-1A_HHC5NDSXC_L2_2.fq.gz',\n",
       "  '/wynton/group/ahituv/fongsl/projects/EMF/data/ATAC/WTC11NGN2.1/./ctrl3/ctrl3_CKDL240018718-1A_HHC5NDSXC_L2_2.fq.gz',\n",
       "  '/wynton/group/ahituv/fongsl/projects/EMF/data/ATAC/WTC11NGN2.1/./ctrl4/ctrl4_CKDL240018719-1A_HHC5NDSXC_L2_2.fq.gz',\n",
       "  '/wynton/group/ahituv/fongsl/projects/EMF/data/ATAC/WTC11NGN2.1/./PEMF1/PEMF1_CKDL240018720-1A_HHC5NDSXC_L2_2.fq.gz',\n",
       "  '/wynton/group/ahituv/fongsl/projects/EMF/data/ATAC/WTC11NGN2.1/./PEMF2/PEMF2_CKDL240018721-1A_HHC5NDSXC_L2_2.fq.gz',\n",
       "  '/wynton/group/ahituv/fongsl/projects/EMF/data/ATAC/WTC11NGN2.1/./PEMF3/PEMF3_CKDL240018722-1A_HHC5NDSXC_L2_2.fq.gz',\n",
       "  '/wynton/group/ahituv/fongsl/projects/EMF/data/ATAC/WTC11NGN2.1/./PEMF4/PEMF4_CKDL240018723-1A_HHC5NDSXC_L2_2.fq.gz'])"
      ]
     },
     "execution_count": 14,
     "metadata": {},
     "output_type": "execute_result"
    }
   ],
   "source": [
    "# make list of readone and read2 files\n",
    "R1_SUFFIX, R2_SUFFIX = \"L2_1\", \"L2_2\"\n",
    "R1s, R2s = [],[]\n",
    "for fq in unsorted_fastqs:\n",
    "    if R1_SUFFIX in fq:\n",
    "        R1s.append(os.path.join(DATA_PATH_REP1, fq))\n",
    "    elif R2_SUFFIX in fq:\n",
    "        R2s.append(os.path.join(DATA_PATH_REP1, fq))\n",
    "    else:\n",
    "        print('check your read1 and read2 filename suffixes!')\n",
    "R1s, R2s"
   ]
  },
  {
   "cell_type": "code",
   "execution_count": 42,
   "id": "94949470-f5cb-489d-b04d-b69374322ef3",
   "metadata": {},
   "outputs": [],
   "source": [
    "# dictionary of parameters\n",
    "json_dict = {\n",
    "    \"atac.title\" : PROJECT_NAME,\n",
    "    \"atac.description\" : \"ATAC-seq on WTC11-NGN2 differentiated neurons +/- 60'PEMF exposure and immediate harvest. Only one biological replicate\",\n",
    "\n",
    "    \"atac.pipeline_type\" : \"atac\",\n",
    "    \"atac.align_only\" : False,\n",
    "    \"atac.true_rep_only\" : False, \n",
    "\n",
    "    \"atac.genome_tsv\" : \"https://storage.googleapis.com/encode-pipeline-genome-data/genome_tsv/v4/hg38.tsv\",\n",
    "    \"atac.blacklist\": \"/wynton/group/ahituv/data/dna/black_list/hg38-blacklist.v2.bed.gz\",\n",
    "\n",
    "    \"atac.paired_end\" : True,  # if ALL replicates are paired-ended.\n",
    "\n",
    "    \"atac.fastqs_rep1_R1\" : R1s,\n",
    "    \"atac.fastqs_rep1_R2\" : R2s, \n",
    "\n",
    "    # ADD MORE BIOLOGICAL REPLICATES\n",
    "    #\"atac.fastqs_rep2_R1\" : [ \"rep2_R1_L1.fastq.gz\", \"rep2_R1_L2.fastq.gz\" ], # no biological replicates yet!\n",
    "    #\"atac.fastqs_rep2_R2\" : [ \"rep2_R2_L1.fastq.gz\", \"rep2_R2_L2.fastq.gz\" ],\n",
    "\n",
    "    \"atac.auto_detect_adapter\" : True,\n",
    "    #\"atac.adapter\" : ILLUMINA_ADAPTER, # illumina adaptors\n",
    "    #\"atac.adapters_rep1_R1\" : [ [ILLUMINA_ADAPTER]*len(R1s)],\n",
    "    #\"atac.adapters_rep1_R2\" : [ [ILLUMINA_ADAPTER]*len(R2s)],\n",
    "    \n",
    "    #\"atac.adapters_rep2_R1\" : [ \"AATTCCGG\", \"AATTCCGG\", \"AATTCCGG\" ],\n",
    "    #\"atac.adapters_rep2_R2\" : [ \"AATTCCGG\", \"AATTCCGG\" ],\n",
    "\n",
    "    \"atac.multimapping\" : 4\n",
    "}"
   ]
  },
  {
   "cell_type": "code",
   "execution_count": 43,
   "id": "a2ef0b7c-0eb0-4403-8465-0e2f166aa2ac",
   "metadata": {},
   "outputs": [],
   "source": [
    "# write json file\n",
    "with open(JSON_FILE, \"w\") as writer:\n",
    "    json.dump(json_dict, writer)\n",
    "    "
   ]
  },
  {
   "cell_type": "code",
   "execution_count": 30,
   "id": "7eba27a2-2b3d-4525-8d9b-7353303f4287",
   "metadata": {},
   "outputs": [
    {
     "name": "stdout",
     "output_type": "stream",
     "text": [
      "INPUT_JSON='/wynton/group/ahituv/fongsl/projects/EMF/data/ATAC/WTC11NGN2.1/WTC11.NGN2.1.PEMF.json'\n"
     ]
    }
   ],
   "source": [
    "# run in command line\n",
    "print(f\"INPUT_JSON='{JSON_FILE}'\")"
   ]
  },
  {
   "cell_type": "code",
   "execution_count": null,
   "id": "294bb139-b75e-4ffa-a745-cd2592830f0d",
   "metadata": {},
   "outputs": [],
   "source": [
    "#run in command line\n",
    "os.chdir(PIPELINE_PATH)\n",
    "\" caper run atac.wdl -i \"${INPUT_JSON}\" --singularity --max-concurrent-tasks 1 --backend sge-pe\"\"\""
   ]
  },
  {
   "cell_type": "markdown",
   "id": "a48dc507-f673-4405-87dc-7378d965a391",
   "metadata": {},
   "source": [
    "## Errors!"
   ]
  },
  {
   "cell_type": "markdown",
   "id": "fea3f87d-5d45-4fee-8cf4-deb1d166b9cc",
   "metadata": {},
   "source": [
    "### error one - java"
   ]
  },
  {
   "cell_type": "markdown",
   "id": "59ea8cb2-46ba-4b1c-b987-7b9a580cd3d8",
   "metadata": {},
   "source": [
    "STDERR=Exception in thread \"main\" java.lang.BootstrapMethodError: java.lang.UnsupportedClassVersionError: wdl/draft3/parser/WdlParser$Ast has been compiled by a more recent version of the Java Runtime (class file version 55.0), this version of the Java Runtime only recognizes class file versions up to 52.0\n",
    "\tat wdl.draft3.transforms.ast2wdlom.package$.<clinit>(ast2wdlom.scala:16)\n",
    "\tat languages.wdl.draft3.WdlDraft3LanguageFactory.makeWomBundle(WdlDraft3LanguageFactory.scala:64)\n",
    "\tat languages.wdl.draft3.WdlDraft3LanguageFactory$$anon$1.call(WdlDraft3LanguageFactory.scala:79)\n",
    "\tat languages.wdl.draft3.WdlDraft3LanguageFactory$$anon$1.call(WdlDraft3LanguageFactory.scala:78)\n",
    "\tat cromwell.languages.util.ParserCache.$anonfun$retrieveOrCalculate$2(ParserCache.scala:35)\n",
    "\tat scala.Option.getOrElse(Option.scala:201)\n",
    "\tat cromwell.languages.util.ParserCache.retrieveOrCalculate(ParserCache.scala:35)\n",
    "\tat cromwell.languages.util.ParserCache.retrieveOrCalculate$(ParserCache.scala:25)\n",
    "\tat languages.wdl.draft3.WdlDraft3LanguageFactory.retrieveOrCalculate(WdlDraft3LanguageFactory.scala:30)\n",
    "\tat languages.wdl.draft3.WdlDraft3LanguageFactory.$anonfun$getWomBundle$2(WdlDraft3LanguageFactory.scala:86)\n",
    "\tat scala.util.Either.flatMap(Either.scala:352)\n",
    "\tat languages.wdl.draft3.WdlDraft3LanguageFactory.getWomBundle(WdlDraft3LanguageFactory.scala:85)\n",
    "\tat womtool.input.WomGraphMaker$.$anonfun$getBundleAndFactory$1(WomGraphMaker.scala:40)\n",
    "\tat scala.util.Either.flatMap(Either.scala:352)\n",
    "\tat womtool.input.WomGraphMaker$.getBundleAndFactory(WomGraphMaker.scala:31)\n",
    "\tat womtool.input.WomGraphMaker$.fromFiles(WomGraphMaker.scala:47)\n",
    "\tat womtool.validate.Validate$.validate(Validate.scala:26)\n",
    "\tat womtool.WomtoolMain$.dispatchCommand(WomtoolMain.scala:54)\n",
    "\tat womtool.WomtoolMain$.runWomtool(WomtoolMain.scala:161)\n",
    "\tat womtool.WomtoolMain$.delayedEndpoint$womtool$WomtoolMain$1(WomtoolMain.scala:166)\n",
    "\tat womtool.WomtoolMain$delayedInit$body.apply(WomtoolMain.scala:27)\n",
    "\tat scala.Function0.apply$mcV$sp(Function0.scala:39)\n",
    "\tat scala.Function0.apply$mcV$sp$(Function0.scala:39)\n",
    "\tat scala.runtime.AbstractFunction0.apply$mcV$sp(AbstractFunction0.scala:17)\n",
    "\tat scala.App.$anonfun$main$1(App.scala:76)\n",
    "\tat scala.App.$anonfun$main$1$adapted(App.scala:76)\n",
    "\tat scala.collection.IterableOnceOps.foreach(IterableOnce.scala:563)\n",
    "\tat scala.collection.IterableOnceOps.foreach$(IterableOnce.scala:561)\n",
    "\tat scala.collection.AbstractIterable.foreach(Iterable.scala:926)\n",
    "\tat scala.App.main(App.scala:76)\n",
    "\tat scala.App.main$(App.scala:74)\n",
    "\tat womtool.WomtoolMain$.main(WomtoolMain.scala:27)\n",
    "\tat womtool.WomtoolMain.main(WomtoolMain.scala)\n",
    "Caused by: java.lang.UnsupportedClassVersionError: wdl/draft3/parser/WdlParser$Ast has been compiled by a more recent version of the Java Runtime (class file version 55.0), this version of the Java Runtime only recognizes class file versions up to 52.0\n",
    "\tat java.lang.ClassLoader.defineClass1(Native Method)\n",
    "\tat java.lang.ClassLoader.defineClass(ClassLoader.java:756)\n",
    "\tat java.security.SecureClassLoader.defineClass(SecureClassLoader.java:142)\n",
    "\tat java.net.URLClassLoader.defineClass(URLClassLoader.java:473)\n",
    "\tat java.net.URLClassLoader.access$100(URLClassLoader.java:74)\n",
    "\tat java.net.URLClassLoader$1.run(URLClassLoader.java:369)\n",
    "\tat java.net.URLClassLoader$1.run(URLClassLoader.java:363)\n",
    "\tat java.security.AccessController.doPrivileged(Native Method)\n",
    "\tat java.net.URLClassLoader.findClass(URLClassLoader.java:362)\n",
    "\tat java.lang.ClassLoader.loadClass(ClassLoader.java:418)\n",
    "\tat sun.misc.Launcher$AppClassLoader.loadClass(Launcher.java:352)\n",
    "\tat java.lang.ClassLoader.loadClass(ClassLoader.java:351)\n",
    "\t... 33 more\n"
   ]
  },
  {
   "cell_type": "markdown",
   "id": "5d4859a8-a8c8-4ba1-a576-b8425693a6d9",
   "metadata": {},
   "source": [
    "### try: install openjdk into atac env?  \n",
    "\n",
    "    micromamba install openjdk\n",
    "\n",
    "- not getting same error. "
   ]
  },
  {
   "cell_type": "markdown",
   "id": "5cb7f94a-8d23-4153-9a04-721ff868865f",
   "metadata": {},
   "source": [
    "### error two - wrong adaptors\n",
    "\n",
    "    STDERR=Failed to evaluate input 'adapters_rep1_R1' (reason 1 of 1): No coercion defined from '[\"AGATCGGAAGAGC\",\"AGATCGGAAGAGC\",\"AGATCGGAAGAGC\",\"AGATCGGAAGAGC\",\"AGATCGGAAGAGC\",\"AGATCGGAAGAGC\",\"AGATCGGAAGAGC\"]' of type 'spray.json.JsArray' to 'String'.\n",
    "    Failed to evaluate input 'adapters_rep1_R2' (reason 1 of 1): No coercion defined from '[\"AGATCGGAAGAGC\",\"AGATCGGAAGAGC\",\"AGATCGGAAGAGC\",\"AGATCGGAAGAGC\",\"AGATCGGAAGAGC\",\"AGATCGGAAGAGC\",\"AGATCGGAAGAGC\"]' of type 'spray.json.JsArray' to 'String'.\n",
    "\n",
    "\n"
   ]
  },
  {
   "cell_type": "markdown",
   "id": "5e2ba86e-e73b-4bd9-8104-f75dbdf90ff3",
   "metadata": {},
   "source": [
    "### try: automatically detecting adaptors\n",
    "\n",
    "- in json\n",
    "  \n",
    "        \"atac.auto_detect_adapter\" : True,\n",
    "\n",
    "  I guess it worked? I'm no longer getting this error"
   ]
  },
  {
   "cell_type": "markdown",
   "id": "f7c0f0e5-4d4c-4e72-914f-9981d2134244",
   "metadata": {},
   "source": [
    "### doesn't recognize atac.black_list dictionary input\n",
    "Traceback (most recent call last):\n",
    "  File \"/wynton/home/ahituv/fongsl/micromamba/envs/atac/bin/caper\", line 13, in <module>\n",
    "    main()\n",
    "  File \"/wynton/home/ahituv/fongsl/micromamba/envs/atac/lib/python3.9/site-packages/caper/cli.py\", line 710, in main\n",
    "    return runner(parsed_args, nonblocking_server=nonblocking_server)\n",
    "  File \"/wynton/home/ahituv/fongsl/micromamba/envs/atac/lib/python3.9/site-packages/caper/cli.py\", line 255, in runner\n",
    "    subcmd_run(c, args)\n",
    "  File \"/wynton/home/ahituv/fongsl/micromamba/envs/atac/lib/python3.9/site-packages/caper/cli.py\", line 385, in subcmd_run\n",
    "    thread = caper_runner.run(\n",
    "  File \"/wynton/home/ahituv/fongsl/micromamba/envs/atac/lib/python3.9/site-packages/caper/caper_runner.py\", line 462, in run\n",
    "    self._cromwell.validate(wdl=wdl, inputs=inputs, imports=imports)\n",
    "  File \"/wynton/home/ahituv/fongsl/micromamba/envs/atac/lib/python3.9/site-packages/caper/cromwell.py\", line 159, in validate\n",
    "    raise WomtoolValidationFailed(\n",
    "caper.cromwell.WomtoolValidationFailed: RC=1\n",
    "STDERR=WARNING: Unexpected input provided: atac.black_list (expected inputs: [atac.adapters_rep6_R2, atac.filter_mem_factor, atac.filter_chrs, atac.conda, atac.pool_ta.col, atac.prom, atac.peak_pooled, atac.peaks_pr2, atac.fastqs_rep2_R2, atac.fastqs_rep8_R2, atac.adapters_rep2_R2, atac.bam2ta_time_hr, atac.conda_macs2, atac.pipeline_type, atac.align_only, atac.fastqs_rep1_R1, atac.xcor_mem_factor, atac.adapters_rep7_R1, atac.mito_chr_name, atac.pseudoreplication_random_seed, atac.call_peak_disk_factor, atac.preseq_picard_java_heap, atac.bam2ta_mem_factor, atac.dup_marker, atac.conda_spp, atac.enable_gc_bias, atac.pool_blacklist.prefix, atac.macs2_signal_track_mem_factor, atac.spr_disk_factor, atac.align_cpu, atac.preseq_mem_factor, atac.paired_ends, atac.roadmap_meta, atac.adapters_rep10_R2, atac.auto_detect_adapter, atac.adapters_rep10_R1, atac.adapters_rep9_R2, atac.xcor_time_hr, atac.ref_fa, atac.fastqs_rep6_R1, atac.adapters_rep5_R2, atac.fraglen_stat_picard_java_heap, atac.adapters_rep1_R1, atac.adapters_rep5_R1, atac.no_dup_removal, atac.adapters_rep3_R1, atac.qc_report.qc_json_ref, atac.idr_thresh, atac.fastqs_rep8_R1, atac.enable_tss_enrich, atac.fastqs_rep7_R1, atac.chrsz, atac.adapters_rep1_R2, atac.subsample_reads, atac.pool_ta_pr1.col, atac.xcor_subsample_reads, atac.peak_ppr2, atac.xcor_disk_factor, atac.enable_preseq, atac.true_rep_only, atac.bams, atac.enable_compare_to_roadmap, atac.fastqs_rep10_R2, atac.reg2map_bed, atac.dnase, atac.fastqs_rep2_R1, atac.fastqs_rep3_R1, atac.preseq.null, atac.enh, atac.read_genome_tsv.null_s, atac.adapters_rep8_R1, atac.fastqs_rep6_R2, atac.filter_cpu, atac.enable_annot_enrich, atac.adapters_rep3_R2, atac.call_peak_time_hr, atac.genome_name, atac.read_len, atac.tss, atac.regex_bfilt_peak_chr_name, atac.fastqs_rep5_R2, atac.adapters_rep4_R1, atac.pool_ta_pr2.col, atac.docker, atac.adapters_rep2_R1, atac.singularity, atac.bowtie2_mito_idx_tar, atac.filter_disk_factor, atac.fastqs_rep4_R2, atac.filter_time_hr, atac.peaks, atac.description, atac.fastqs_rep4_R1, atac.tas, atac.enable_xcor, atac.preseq_disk_factor, atac.title, atac.filter_picard_java_heap, atac.enable_count_signal_track, atac.bam2ta_cpu, atac.fastqs_rep7_R2, atac.blacklist, atac.fastqs_rep9_R2, atac.fastqs_rep10_R1, atac.pval_thresh, atac.jsd_cpu, atac.adapter, atac.macs2_signal_track_disk_factor, atac.call_peak_mem_factor, atac.peaks_pr1, atac.cutadapt_param, atac.align_disk_factor, atac.fastqs_rep1_R2, atac.bam2ta_disk_factor, atac.nodup_bams, atac.call_peak_cpu, atac.adapters_rep6_R1, atac.gc_bias_picard_java_heap, atac.adapters_rep8_R2, atac.jsd_time_hr, atac.cap_num_peak, atac.xcor_cpu, atac.bowtie2_idx_tar, atac.reg2map, atac.adapters_rep7_R2, atac.gensz, atac.adapters_rep4_R2, atac.adapters_rep9_R1, atac.jsd_mem_factor, atac.spr_mem_factor, atac.multimapping, atac.fastqs_rep5_R1, atac.mapq_thresh, atac.blacklist2, atac.fastqs_rep9_R1, atac.genome_tsv, atac.enable_jsd, atac.fastqs_rep3_R2, atac.paired_end, atac.align_time_hr, atac.conda_python2, atac.align_mem_factor, atac.peak_ppr1, atac.macs2_signal_track_time_hr, atac.enable_fraglen_stat, atac.ref_mito_fa, atac.enable_idr, atac.jsd_disk_factor, atac.smooth_win])\n"
   ]
  },
  {
   "cell_type": "markdown",
   "id": "9f80e2fe-ef80-4299-a4e1-1d9c8847f809",
   "metadata": {},
   "source": [
    "### try: black_list -> blacklist\n",
    "- appears to be a typo"
   ]
  },
  {
   "cell_type": "markdown",
   "id": "10359cb2-4212-4280-b0f6-44b8a090ca64",
   "metadata": {},
   "source": [
    "# Alternative strategy: NF-core?"
   ]
  },
  {
   "cell_type": "markdown",
   "id": "4a36f948-f3c8-4d81-8231-e12629a7953c",
   "metadata": {},
   "source": [
    "micromamba install nextflow\n",
    "\n",
    "git clone https://github.com/nf-core/atacseq"
   ]
  },
  {
   "cell_type": "markdown",
   "id": "4cf06612-7bb8-4b20-9cd8-4662f7ffe730",
   "metadata": {},
   "source": [
    "make sample sheet (csv)\n",
    "    \n",
    "    name,fastq1,fastq2,replicate"
   ]
  },
  {
   "cell_type": "markdown",
   "id": "53fe26c9-373d-4756-a6a2-d0dafe053102",
   "metadata": {},
   "source": [
    "## online"
   ]
  },
  {
   "cell_type": "code",
   "execution_count": 7,
   "id": "ddfa35a1-3a69-41f8-b402-2c323d9d424d",
   "metadata": {},
   "outputs": [],
   "source": [
    "NFCORE_PATH = \"/wynton/group/ahituv/bin/pipelines/atacseq\"\n",
    "\n",
    "INPUT = os.path.join(DATA_PATH_REP1, \"samples.csv\")\n",
    "OUTPUT_DIR = os.path.join(DATA_PATH_REP1, \"results\")\n",
    "READLEN = \"150\"\n",
    "\n",
    "os.chdir(NFCORE_PATH)"
   ]
  },
  {
   "cell_type": "code",
   "execution_count": 9,
   "id": "6f66bd7a-b4ca-4996-a47e-c0949aed790c",
   "metadata": {},
   "outputs": [
    {
     "name": "stdout",
     "output_type": "stream",
     "text": [
      "nextflow run nf-core/atacseq --input /wynton/group/ahituv/fongsl/projects/EMF/data/ATAC/WTC11NGN2.1/samples.csv --outdir /wynton/group/ahituv/fongsl/projects/EMF/data/ATAC/WTC11NGN2.1/results --genome GRCh38 --read_length 150 -profile singularity --narrow_peak --resume\n"
     ]
    }
   ],
   "source": [
    "cmd = \" \".join(['nextflow run nf-core/atacseq',\n",
    "                \"--input\", INPUT, \n",
    "                \"--outdir\", OUTPUT_DIR, \n",
    "                \"--genome GRCh38\", \n",
    "                \"--read_length\", READLEN,\n",
    "                \"-profile singularity\", \n",
    "                \"--narrow_peak\",\n",
    "                \"--resume\"\n",
    "               ])\n",
    "print(cmd)\n",
    "\n",
    "# before running command, need to load java17\n",
    "java_cmd = \" \".join([\"ml load openjdk/17\"])\n",
    "CACHE = \"NXF_SINGULARITY_CACHEDIR=/wynton/group/ahituv/bin/pipelines/atacseq/work/singularity\""
   ]
  },
  {
   "cell_type": "markdown",
   "id": "17c565d9-a3c6-47ec-b34c-fe885da05764",
   "metadata": {},
   "source": [
    "ERROR ~ Error executing process > 'NFCORE_ATACSEQ:ATACSEQ:FASTQ_ALIGN_BWA:BWA_MEM (1)'\n",
    "\n",
    "Caused by:\n",
    "  Not a valid S3 file system provider file attribute view: java.nio.file.attribute.BasicWithKeyFileAttributeView\n",
    "\n",
    "\n",
    "\n",
    " -- Check '.nextflow.log' file for details\n",
    "\n",
    "### try increasing java\n",
    "    ml load openjdk/17"
   ]
  },
  {
   "cell_type": "code",
   "execution_count": 31,
   "id": "d517bb70-bedd-4468-9fb4-8928641dbcad",
   "metadata": {},
   "outputs": [
    {
     "ename": "SyntaxError",
     "evalue": "invalid syntax (2814767026.py, line 1)",
     "output_type": "error",
     "traceback": [
      "\u001b[0;36m  Cell \u001b[0;32mIn[31], line 1\u001b[0;36m\u001b[0m\n\u001b[0;31m    qsub /wynton/home/ahituv/fongsl/EMF/bin/ATAC/nfcore-atac.sh qAZxcv bg\u001b[0m\n\u001b[0m                                                                ^\u001b[0m\n\u001b[0;31mSyntaxError\u001b[0m\u001b[0;31m:\u001b[0m invalid syntax\n"
     ]
    }
   ],
   "source": [
    "qsub /wynton/home/ahituv/fongsl/EMF/bin/ATAC/nfcore-atac.sh "
   ]
  },
  {
   "cell_type": "markdown",
   "id": "f68c6004-6b53-4476-bc2e-05a60f88d69f",
   "metadata": {},
   "source": [
    "# update plugins? \n",
    "\n",
    "I keep getting the error in my qsub script:\n",
    "        \n",
    "        Downloading plugin nf-schema@2.0.0\n",
    "        ERROR ~ Plugin with id nf-schema not found in any repository\n",
    "\n",
    "Think I need to update the plugin naming..\n",
    "see here: https://nextflow-io.github.io/nf-schema/latest/migration_guide/#updating-the-name-and-version-of-the-plugin\n",
    "\n",
    "Did this: \n",
    "1. in command line:\n",
    "\n",
    "       nextflow plugin install nf-schema@2.0.0\n",
    "3. in nextflow.config, changed \n",
    "\n",
    "       plugins { id 'nf-schema@2.0.0' }"
   ]
  },
  {
   "cell_type": "code",
   "execution_count": 51,
   "id": "3effdeff-8ac0-49d6-9b54-0c83b7de64a4",
   "metadata": {},
   "outputs": [
    {
     "data": {
      "text/plain": [
       "0"
      ]
     },
     "execution_count": 51,
     "metadata": {},
     "output_type": "execute_result"
    }
   ],
   "source": [
    "# update one\n",
    "cmd = \"\"\"find . -type f -name \"*.nf\" -exec sed -i -e \"s/from 'plugin\\/nf-validation'/from 'plugin\\/nf-schema'/g\" -\\\n",
    "e 's/from \"plugin\\/nf-validation\"/from \"plugin\\/nf-schema\"/g' {} +\"\"\"\n",
    "os.system(cmd)"
   ]
  },
  {
   "cell_type": "code",
   "execution_count": 54,
   "id": "7520c1a3-5c00-461c-93d9-3c9bd5a29d80",
   "metadata": {},
   "outputs": [
    {
     "data": {
      "text/plain": [
       "0"
      ]
     },
     "execution_count": 54,
     "metadata": {},
     "output_type": "execute_result"
    }
   ],
   "source": [
    "# update 2\n",
    "cmd = \"\"\"sed -i -e 's/http:\\/\\/json-schema.org\\/draft-07\\/schema/https:\\/\\/json-schema.org\\/draft\\/2020-12\\/schema/g' -e 's/definitions/defs/g' nextflow_schema.json\"\"\"\n",
    "os.system(cmd)"
   ]
  },
  {
   "cell_type": "code",
   "execution_count": 53,
   "id": "672f133e-2197-4350-b4d5-921f12b33f07",
   "metadata": {},
   "outputs": [],
   "source": [
    "os.chdir(NFCORE_PATH) #+ '/conf')"
   ]
  },
  {
   "cell_type": "markdown",
   "id": "67e152e0-3794-4fe3-8669-6fa374a84eb2",
   "metadata": {},
   "source": [
    "# running offline\n",
    "- https://nf-co.re/docs/usage/getting_started/offline"
   ]
  },
  {
   "cell_type": "markdown",
   "id": "7c89db0e-226e-4730-ab84-a7ccb86eeccb",
   "metadata": {},
   "source": [
    "1. create virtualenv\n",
    "\n",
    "        micromamba create -n env_nf nextflow nf-core"
   ]
  },
  {
   "cell_type": "markdown",
   "id": "2133eb6f-837b-45cd-b01d-998bf8110cbd",
   "metadata": {},
   "source": [
    "2. activate virualenv\n",
    "\n",
    "       micromamba actiavte env_nf"
   ]
  },
  {
   "cell_type": "markdown",
   "id": "32083537-fb69-49d2-9f9a-f69490fa8bdc",
   "metadata": {},
   "source": [
    "3. download nextflow, plugins\n",
    "\n",
    "        # Download nextflow\n",
    "        #from https://nf-co.re/docs/usage/getting_started/installation\n",
    "   \n",
    "        curl -s https://get.nextflow.io | bash\n",
    "        chmod +x nextflow\n",
    "        mv nextflow ~/bin/\n",
    "\n",
    "        # Download plugins\n",
    "        # from https://github.com/nextflow-io/nextflow/discussions/4126\n",
    "        nextflow plugin install nf-schema@2.0.0\n",
    "\n",
    "\n",
    "       # add to $HOME/.bashrc file:\n",
    "       export NXF_OFFLINE='true'\n",
    "   "
   ]
  },
  {
   "cell_type": "markdown",
   "id": "f1c82925-7d99-4ced-a463-af0fa8cc5f58",
   "metadata": {},
   "source": [
    "4. download pipeline with singularity container\n",
    "\n",
    "       cd /wynton/group/ahituv/bin/pipelines/  # go to working directory\n",
    "       nf-core download atacseq --singularity  # download atacseq pipeline with singularity container\n",
    "       gunzip nf-core-atacseq-dev.tar.gz | tar -xzf # unzip and install tar\n",
    "\n",
    "        # copy the plugins file to the new workflow folder\n",
    "       cp -r $HOME/.nextflow /wynton/group/ahituv/bin/pipelines/nf-core-atacseq-dev/workflow/\n",
    "       \n",
    "\n",
    "   "
   ]
  },
  {
   "cell_type": "markdown",
   "id": "f5b0b4a5-37bf-492c-99bd-e182eb85519b",
   "metadata": {},
   "source": [
    "5. pin plugin in nextflow.config in /wynton/group/ahituv/bin/pipelines/nf-core-atacseq-dev/workflow/:\n",
    "\n",
    "       // Nextflow plugins\n",
    "        plugins {\n",
    "            //id 'nf-validation'  Validation of pipeline parameters and creation of an input channel from a sample sheet // SF changed https://github.com/nextflow-io/nf-validation\n",
    "            id 'nf-schema@2.0.0' \n",
    "        }\n",
    "   "
   ]
  },
  {
   "cell_type": "markdown",
   "id": "d980c816-377d-4015-93c1-c9d090cda65d",
   "metadata": {},
   "source": [
    "6. download references\n",
    "   "
   ]
  },
  {
   "cell_type": "code",
   "execution_count": null,
   "id": "24a0b9b1-5e61-4a92-9802-1878d51199e3",
   "metadata": {},
   "outputs": [],
   "source": [
    "--fasta /wynton/group/ahituv/data/dna/hg38/hg38.fa.gz\n",
    "--gtf /wynton/group/ahituv/data/dna/hg38/hg38.knownGene.gtf.gz"
   ]
  }
 ],
 "metadata": {
  "kernelspec": {
   "display_name": "Python 3 (ipykernel)",
   "language": "python",
   "name": "python3"
  },
  "language_info": {
   "codemirror_mode": {
    "name": "ipython",
    "version": 3
   },
   "file_extension": ".py",
   "mimetype": "text/x-python",
   "name": "python",
   "nbconvert_exporter": "python",
   "pygments_lexer": "ipython3",
   "version": "3.11.5"
  }
 },
 "nbformat": 4,
 "nbformat_minor": 5
}
