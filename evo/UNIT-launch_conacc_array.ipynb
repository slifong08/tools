{
 "cells": [
  {
   "cell_type": "code",
   "execution_count": 1,
   "id": "ca5028cb",
   "metadata": {
    "ExecuteTime": {
     "end_time": "2022-04-15T22:40:13.653147Z",
     "start_time": "2022-04-15T22:40:13.646919Z"
    }
   },
   "outputs": [],
   "source": [
    "BEDF = '/dors/capra_lab/users/fongsl/tools/unit_test/test.bed'\n",
    "MSAWAY=\"30way\"\n",
    "GENOME_BUILD = \"hg38\"\n",
    "DATA_PATH = \"/dors/capra_lab/users/fongsl/tools/unit_test/conacc/\"\n",
    "CHR_PATH = \"/dors/capra_lab/users/fongsl/tools/unit_test/chr/\""
   ]
  },
  {
   "cell_type": "code",
   "execution_count": 2,
   "id": "0e9df71d",
   "metadata": {
    "ExecuteTime": {
     "end_time": "2022-04-15T22:40:14.518544Z",
     "start_time": "2022-04-15T22:40:14.330314Z"
    }
   },
   "outputs": [],
   "source": [
    "#!/usr/bin/env python\n",
    "# coding: utf-8\n",
    "\n",
    "# In[ ]:\n",
    "\n",
    "import argparse\n",
    "import configparser\n",
    "import glob\n",
    "import itertools \n",
    "import numpy as np\n",
    "import os, sys\n",
    "import subprocess\n",
    "import time\n",
    "sys.path.append(\"/dors/capra_lab/users/fongsl/tools/py_/\")\n",
    "import chr_functions"
   ]
  },
  {
   "cell_type": "code",
   "execution_count": null,
   "id": "c9e5310a",
   "metadata": {},
   "outputs": [],
   "source": [
    "###\n",
    "# args\n",
    "###\n",
    "\n",
    "arg_parser = argparse.ArgumentParser(description=\"estimate conservation/acceleration w phyloP\")\n",
    "\n",
    "arg_parser.add_argument(\"-b\", \"--bedfile\", help=\"bed file\")\n",
    "\n",
    "arg_parser.add_argument(\"-br\", \"--branches\", help='hg38, rheMac3')\n",
    "arg_parser.add_argument(\"-c\", \"--chromosome_directory\", help='hg38, rheMac3')\n",
    "\n",
    "arg_parser.add_argument(\n",
    "    \"-msa\", \"--multiz\", help='20-, 30-, 100-way multiz in hg38')\n",
    "\n",
    "arg_parser.add_argument(\n",
    "    \"-mod\", \"--model\", help='full\", hg38-rheMac8', default=\"full\")\n",
    "arg_parser.add_argument(\"-o\", \"--outdirectory\", help = \"outdirectory to dump results\")\n",
    "\n",
    "\n",
    "\n",
    "# PARSE THE ARGUMENTS\n",
    "args = arg_parser.parse_args()\n",
    "\n",
    "BEDF = args.bedfile\n",
    "MSAWAY = args.msa\n",
    "GENOME_BUILD = args.msa\n",
    "DATA_PATH = args.outdirectory\n",
    "CHR_PATH = args.chromosome_directory"
   ]
  },
  {
   "cell_type": "code",
   "execution_count": 6,
   "id": "6b32a573",
   "metadata": {
    "ExecuteTime": {
     "end_time": "2022-04-15T22:41:43.375018Z",
     "start_time": "2022-04-15T22:41:43.338976Z"
    }
   },
   "outputs": [],
   "source": [
    "# CONSTANTS\n",
    "ARRAY = True\n",
    "BIN_PATH = '/dors/capra_lab/users/fongsl/tools/evo/'    \n",
    "\n",
    "##\n",
    "# FUNCTIONS\n",
    "###\n",
    "\n",
    "def get_phylop_dict(msaway, genome_build):\n",
    "\n",
    "    phylop_dict = {\n",
    "        'phylop_bin':'/dors/capra_lab/bin/./phyloP', \n",
    "        'dors_maf_path': f'/dors/capra_lab/data/ucsc/{genome_build}',\n",
    "        'maf':f'/dors/capra_lab/data/ucsc/hg38/multiz{msaway}/maf/{msaway}.maf.gz', \n",
    "        'branches':['hg38', 'rheMac8', 'hg38-rheMac8'], \n",
    "        'models': ['full', 'rheMac8_noOWM', 'hg38_noAPES'],\n",
    "    }\n",
    "    \n",
    "    neutral_model_dict = {\n",
    "                            'full': f'/dors/capra_lab/data/ucsc/{genome_build}/multiz{msaway}/{genome_build}.phastCons{msaway}.mod', \n",
    "                            'hg38-rhemac8': f'/dors/capra_lab/data/ucsc/{genome_build}/multiz{msaway}/{genome_build}.phastCons{msaway}_hg38-rheMac8.mod',\n",
    "                            'rhemac8_noowm': f'/dors/capra_lab/data/ucsc/{genome_build}/multiz{msaway}/{genome_build}.phastCons{msaway}_rheMac8_noOWM.mod', \n",
    "                            'hg38_noapes':f'/dors/capra_lab/data/ucsc/{genome_build}/multiz{msaway}/{genome_build}.phastCons{msaway}_hg38_noAPES.mod'\n",
    "                            }\n",
    "    return phylop_dict, neutral_model_dict\n",
    "\n",
    "\n",
    "# in case you need to split file on size before getting started\n",
    "def split_by_line(f, data_path, chr_num):\n",
    "\n",
    "    chr_path = os.path.join(data_path, chr_num) # make dir for chromosome splits\n",
    "    \n",
    "    try:\n",
    "        os.mkdir(chr_path)\n",
    "    except FileExistsError:\n",
    "        pass\n",
    "    \n",
    "    # change dir to the output chr path (not the original CHR_PATH, \n",
    "    # where file is split on CHR, but not line number)\n",
    "    os.chdir(chr_path)\n",
    "\n",
    "    small_fs = glob.glob(f\"{chr_path}/{chr_num}-*\")\n",
    "\n",
    "    # split the file in command line into sizes of 1000 lines\n",
    "    cmd = f\"split -l 1000 {f} {chr_num}-\"\n",
    "    if len(small_fs) ==0:\n",
    "        print(\"splitting\")\n",
    "        subprocess.call(cmd, shell = True)\n",
    "\n",
    "    else:\n",
    "        print(\"already split\")\n",
    "    small_fs = glob.glob(f\"{chr_path}/{chr_num}-*\")\n",
    "\n",
    "    return small_fs\n",
    "\n",
    "\n",
    "def make_run_list(branches, models, chrs):\n",
    "    runs = []\n",
    "    no_runs = [('hg38', 'rheMac8_noOWM') , \n",
    "               ('hg38-rheMac8', 'rheMac8_noOWM'), \n",
    "               ('hg38-rheMac8', 'hg38_noAPES'),\n",
    "              ('rheMac8', 'hg38_noAPES') \n",
    "              ] # don't run these tuples. Not interested yet in these results\n",
    "    for b in branches:\n",
    "        for m in models:\n",
    "            for c in chrs:           \n",
    "                combo = [b, m, c]\n",
    "                if combo not in runs and (b,m) not in no_runs:\n",
    "                    runs.append(combo)\n",
    "                    \n",
    "    return runs\n",
    "\n",
    "def print_cmd(bin_path, branches, msaway, mod, chrnum, jobtype, file):\n",
    "\n",
    "    # tell us what is being run\n",
    "    print(\"\\nrunning\", jobtype,  \"\\non\", file,\n",
    "    \"\\nbranches:\", branches, \"\\nmsa:\", msaway,\n",
    "    \"\\nmod:\", mod, \"\\nchr:\", chrnum, \"\\n\")\n",
    "\n",
    "    \n",
    "def run_conacc_slurm_array(bin_path, chrnum, branches, msaway, mod, data_path, genome_build):\n",
    "\n",
    "    script = os.path.join(bin_path, \"conacc_array.slurm\")\n",
    "    \n",
    "    chr_path = os.path.join(data_path, chrnum)\n",
    "    \n",
    "    num_files = len(os.listdir(os.path.join(data_path, chrnum)))# get the number of files and set the array arg. \n",
    "    \n",
    "\n",
    "    big_mem_chr = [\"chr1\", \"chr2\", \"chr6\", \"chr6\", \"chr5\", \"chr11\", \"chr7\", \"chr12\",\"chr17\",\"chr19\",]\n",
    "\n",
    "    if chrnum in big_mem_chr:\n",
    "        mem = \"--mem=120GB\"\n",
    "        array = f\"--array [0-{num_files}:5]%5\"\n",
    "        print(\"mem requested\", mem)\n",
    "    else:\n",
    "        mem = \"--mem=64GB\"\n",
    "        array = f\"--array [0-{num_files}:10]%10\"\n",
    "\n",
    "    # make the command\n",
    "\n",
    "    cmd = f\"sbatch {array} {mem} {script} {chrnum} {genome_build} {branches} {msaway} {mod} {data_path}\"\n",
    "    print(cmd)\n",
    "    jobtype = \"slurm\"\n",
    "    file = \"array\"\n",
    "    print_cmd(bin_path, branches, msaway, mod, chrnum, jobtype, file)\n",
    "    # run it\n",
    "    return cmd\n",
    "\n",
    "\n",
    "# function to check if you have already run these files. \n",
    "\n",
    "def check_already_run(combo, msaway, phylop_path, chr_path):\n",
    "    \n",
    "    branch, model, chrnum = combo[0], combo[1], combo[2].split(\".bed\")[0]\n",
    "      \n",
    "    outpath = os.path.join(\n",
    "    phylop_path, f\"{chrnum}\", f\"multiz{msaway}way_br-{branch}_mod-{model}\")\n",
    "\n",
    "    if os.path.exists(outpath) is True:  # if you have tried to run this before. \n",
    "\n",
    "        \n",
    "        finished = os.path.join(outpath, f\"{chrnum}_conacc.bed\")  # if the run was complete, there should be a file named this. \n",
    "        \n",
    "        if os.path.exists(finished) is True:  # now, make sure that the file is exactly the size it should be. \n",
    "           \n",
    "            \n",
    "            finished_lines = sum(1 for line in open(finished))\n",
    "            expected_lines = sum(1 for line in open(os.path.join(chr_path, f\"{chrnum}.bed\")))\n",
    "            \n",
    "            if finished_lines == expected_lines:  # if obs result lines is the expected number of lines.  \n",
    "                \n",
    "                skip_run = True\n",
    "            else:\n",
    "                skip_run = False\n",
    "                print(\"finished v. expected\", finished_lines, expected_lines)\n",
    "        else:\n",
    "            print(\"never finished\", finished)\n",
    "            skip_run = False\n",
    "    else:\n",
    "        print(\"never made folder and never run\", outpath)\n",
    "        skip_run = False\n",
    "    return skip_run\n",
    "\n",
    "\n",
    "# In[8]:"
   ]
  },
  {
   "cell_type": "code",
   "execution_count": null,
   "id": "7d186e4b",
   "metadata": {
    "ExecuteTime": {
     "end_time": "2022-04-15T21:54:51.911937Z",
     "start_time": "2022-04-15T21:54:51.862608Z"
    }
   },
   "outputs": [],
   "source": [
    "def main(argv):"
   ]
  },
  {
   "cell_type": "code",
   "execution_count": 7,
   "id": "0c0a61de",
   "metadata": {
    "ExecuteTime": {
     "end_time": "2022-04-15T22:41:46.404938Z",
     "start_time": "2022-04-15T22:41:46.362066Z"
    }
   },
   "outputs": [
    {
     "name": "stdout",
     "output_type": "stream",
     "text": [
      "already split\n",
      "already split\n",
      "already split\n",
      "already split\n",
      "already split\n",
      "already split\n",
      "already split\n",
      "already split\n",
      "already split\n",
      "already split\n",
      "already split\n",
      "already split\n",
      "already split\n",
      "already split\n",
      "already split\n",
      "already split\n",
      "already split\n",
      "already split\n",
      "already split\n",
      "already split\n",
      "already split\n",
      "already split\n",
      "110 phylop chr x branch x model comparisons to run\n",
      "never made folder and never run /dors/capra_lab/users/fongsl/tools/unit_test/conacc/chr1/multiz30wayway_br-hg38_mod-full\n",
      "mem requested --mem=120GB\n",
      "sbatch --array [0-1:5]%5 --mem=120GB /dors/capra_lab/users/fongsl/tools/evo/conacc_array.slurm chr1 hg38 hg38 30way full /dors/capra_lab/users/fongsl/tools/unit_test/conacc/\n",
      "\n",
      "running slurm \n",
      "on array \n",
      "branches: hg38 \n",
      "msa: 30way \n",
      "mod: full \n",
      "chr: chr1 \n",
      "\n"
     ]
    }
   ],
   "source": [
    "    \n",
    "    PHYLOP_DICT, NEUTRAl_MODELS = get_phylop_dict(MSAWAY, GENOME_BUILD)\n",
    "    BRANCHES = PHYLOP_DICT[\"branches\"] # get from dict\n",
    "    MODELS = PHYLOP_DICT[\"models\"]\n",
    "\n",
    "    os.chdir(CHR_PATH)\n",
    "    chrs = glob.glob(\"chr*.bed\")  # get all the chromosome files\n",
    "\n",
    "    # exclude these chromosomes by taking set difference.\n",
    "    excl_chr = set(['chrX.bed', 'chrY.bed', 'chrM.bed', \n",
    "                    'chr14_KI270726v1_random.bed', 'chr16_KI270728v1_random.bed'\n",
    "                    'chr14_KI270722v1_random.bed', 'chr16_KI270728v1_random.bed', \n",
    "                    'chr14_KI270722v1_random.bed'\n",
    "                   ])\n",
    "    \n",
    "    chrs_ = list(set(chrs).difference(excl_chr))\n",
    "\n",
    "    \n",
    "    for chr_ in chrs_: \n",
    "\n",
    "        chr_ = chr_.split(\".bed\")[0]\n",
    "\n",
    "        chr_f = os.path.join(CHR_PATH, (chr_+\".bed\"))\n",
    "        \n",
    "        # split chr_files into 1000 line files.\n",
    "        split_fs = split_by_line(chr_f, DATA_PATH, chr_)\n",
    "\n",
    "    run_list = make_run_list(BRANCHES, MODELS, chrs_)\n",
    "    \n",
    "    print(len(run_list),\"phylop chr x branch x model comparisons to run\", )\n",
    "\n",
    "    val = 0\n",
    "\n",
    "    # per chr-branch-model combination in run list\n",
    "\n",
    "    for run in run_list[val:]:\n",
    "        \n",
    "        BRANCH = run[0]\n",
    "        MODEL = run[1]\n",
    "        CHR = run[2].split(\".bed\")[0]\n",
    "       \n",
    "        SKIP_RUN = check_already_run(run, MSAWAY, DATA_PATH, CHR_PATH)  # check if you have already run this:\n",
    "        #run_conacc_slurm_array(bin_path, chrnum, branches, msaway, mod, data_path, genome_build, outdir):\n",
    "            \n",
    "        cmd = run_conacc_slurm_array(BIN_PATH, CHR,  BRANCH, MSAWAY, MODEL, DATA_PATH, GENOME_BUILD)\n",
    "        break\n",
    "        \"\"\"\n",
    "        if (val % 9) == 0 and val>0:\n",
    "\n",
    "            sleeptime = 60*25\n",
    "            time.sleep(sleeptime)\n",
    "        \"\"\"    \n",
    "                \n",
    "        if SKIP_RUN is False:\n",
    "            print(val, cmd)\n",
    "            #subprocess.call(cmd, shell = True)\n",
    "        \n",
    "            val +=1\n",
    "        else:\n",
    "            print(\"run already\")"
   ]
  },
  {
   "cell_type": "code",
   "execution_count": 3,
   "id": "4ee3f30b",
   "metadata": {
    "ExecuteTime": {
     "end_time": "2022-04-15T21:54:51.911937Z",
     "start_time": "2022-04-15T21:54:51.862608Z"
    }
   },
   "outputs": [
    {
     "ename": "SyntaxError",
     "evalue": "invalid syntax (<ipython-input-3-4578f7841134>, line 16)",
     "output_type": "error",
     "traceback": [
      "\u001b[0;36m  File \u001b[0;32m\"<ipython-input-3-4578f7841134>\"\u001b[0;36m, line \u001b[0;32m16\u001b[0m\n\u001b[0;31m    'models' = ['full', 'rheMac8_noOWM', 'hg38_noAPES'],\u001b[0m\n\u001b[0m             ^\u001b[0m\n\u001b[0;31mSyntaxError\u001b[0m\u001b[0;31m:\u001b[0m invalid syntax\n"
     ]
    }
   ],
   "source": [
    "if __name__ == \"__main__\":\n",
    "    main(sys.argv[1:])"
   ]
  },
  {
   "cell_type": "code",
   "execution_count": 13,
   "id": "a13d242e",
   "metadata": {
    "ExecuteTime": {
     "end_time": "2022-04-15T22:04:45.209330Z",
     "start_time": "2022-04-15T22:04:45.204067Z"
    }
   },
   "outputs": [
    {
     "data": {
      "text/plain": [
       "('/dors/capra_lab/users/fongsl/tools/evo/',\n",
       " 'chr10',\n",
       " 'hg38',\n",
       " '30way',\n",
       " 'full',\n",
       " '/dors/capra_lab/users/fongsl/tools/unit_test/conacc/',\n",
       " 'hg38')"
      ]
     },
     "execution_count": 13,
     "metadata": {},
     "output_type": "execute_result"
    }
   ],
   "source": [
    "BIN_PATH, CHR,  BRANCH, MSAWAY, MODEL, DATA_PATH, GENOME_BUILD"
   ]
  },
  {
   "cell_type": "code",
   "execution_count": null,
   "id": "7533165e",
   "metadata": {},
   "outputs": [],
   "source": []
  }
 ],
 "metadata": {
  "kernelspec": {
   "display_name": "Python (sfenv)",
   "language": "python",
   "name": "sfenv"
  },
  "language_info": {
   "codemirror_mode": {
    "name": "ipython",
    "version": 3
   },
   "file_extension": ".py",
   "mimetype": "text/x-python",
   "name": "python",
   "nbconvert_exporter": "python",
   "pygments_lexer": "ipython3",
   "version": "3.6.5"
  },
  "toc": {
   "base_numbering": 1,
   "nav_menu": {},
   "number_sections": true,
   "sideBar": true,
   "skip_h1_title": false,
   "title_cell": "Table of Contents",
   "title_sidebar": "Contents",
   "toc_cell": false,
   "toc_position": {},
   "toc_section_display": true,
   "toc_window_display": false
  }
 },
 "nbformat": 4,
 "nbformat_minor": 5
}
