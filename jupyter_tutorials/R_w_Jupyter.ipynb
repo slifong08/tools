{
 "cells": [
  {
   "cell_type": "markdown",
   "metadata": {},
   "source": [
    "# R w/ ACCRE, Jupyter notebooks "
   ]
  },
  {
   "cell_type": "markdown",
   "metadata": {},
   "source": [
    "### login to ACCRE and load virtual environment \n",
    " Don't have a virtual environment? See set up virtual env: steps 1-3 of Bash_w_jupyter.ipynb"
   ]
  },
  {
   "cell_type": "markdown",
   "metadata": {},
   "source": [
    "#### Set up IRkernel, R"
   ]
  },
  {
   "cell_type": "markdown",
   "metadata": {},
   "source": [
    "1. install R irkernel"
   ]
  },
  {
   "cell_type": "markdown",
   "metadata": {},
   "source": [
    "    conda install -c r r-irkernel"
   ]
  },
  {
   "cell_type": "markdown",
   "metadata": {},
   "source": [
    "2. go to the directory r-irkernel is loaded in:"
   ]
  },
  {
   "cell_type": "markdown",
   "metadata": {},
   "source": [
    "    cd /home/fongsl/.conda/pkgs/jupyter-1.0.0-py36_7/lib"
   ]
  },
  {
   "cell_type": "markdown",
   "metadata": {},
   "source": [
    "3. Run R. \n",
    "\n",
    "    Inside R, run"
   ]
  },
  {
   "cell_type": "markdown",
   "metadata": {},
   "source": [
    "    IRkernel::installspec()    "
   ]
  },
  {
   "cell_type": "markdown",
   "metadata": {},
   "source": [
    "4. open up a new jupyter notebook and load R kernel\n",
    "\n",
    "Under Kernel -> Change kernel -> R"
   ]
  }
 ],
 "metadata": {
  "kernelspec": {
   "display_name": "Bash",
   "language": "bash",
   "name": "bash"
  },
  "language_info": {
   "codemirror_mode": "shell",
   "file_extension": ".sh",
   "mimetype": "text/x-sh",
   "name": "bash"
  }
 },
 "nbformat": 4,
 "nbformat_minor": 2
}
