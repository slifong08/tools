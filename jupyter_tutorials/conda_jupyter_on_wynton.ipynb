{
 "cells": [
  {
   "cell_type": "markdown",
   "id": "a7813ad2",
   "metadata": {},
   "source": [
    " # How to get on to wynton"
   ]
  },
  {
   "cell_type": "markdown",
   "id": "da64fa02",
   "metadata": {},
   "source": [
    "## Request a wynton account"
   ]
  },
  {
   "cell_type": "markdown",
   "id": "2f470487",
   "metadata": {},
   "source": [
    "website - https://wynton.ucsf.edu/hpc/about/join.html\n",
    "    \n",
    "- select \"Request a Wynton Account / Modify an Existing Account (requires UCSF MyAccess login)\"\n",
    "- login to MyAccess\n",
    "- set Nadav as the PI in UCSF PI Email\n",
    "- email - if you have access to your UCSF email account, use this, else use personal email address (important for confirmation)"
   ]
  },
  {
   "cell_type": "markdown",
   "id": "45dd9ee9",
   "metadata": {},
   "source": [
    "### once you receive your username and password from wynton, login. "
   ]
  },
  {
   "cell_type": "markdown",
   "id": "32886b19",
   "metadata": {},
   "source": [
    "## Login to wynton"
   ]
  },
  {
   "cell_type": "markdown",
   "id": "beaf15cb",
   "metadata": {},
   "source": [
    "In terminal, use your username, and enter: "
   ]
  },
  {
   "cell_type": "code",
   "execution_count": null,
   "id": "95730fe1",
   "metadata": {},
   "outputs": [],
   "source": [
    "%%bash  \n",
    "\n",
    "ssh USERNAME@log1.wynton.ucsf.edu"
   ]
  },
  {
   "cell_type": "markdown",
   "id": "66db4ae6",
   "metadata": {},
   "source": [
    "(replace \"USERNAME\" with your username) "
   ]
  },
  {
   "cell_type": "markdown",
   "id": "7226e395",
   "metadata": {},
   "source": [
    "## Login to wynton with out password\n",
    "- follow steps 1-4 outlined here: https://wynton.ucsf.edu/hpc/howto/log-in-without-pwd.html\n",
    "- At bottom of page, follow \"Connect directly to a development node\" steps. \n",
    "\n",
    "        -THIS WILL SAVE YOU SO MUCH TIME. "
   ]
  },
  {
   "cell_type": "markdown",
   "id": "3677e3f4",
   "metadata": {},
   "source": [
    "### Setup public-private ssh key, passphrase\n",
    "- do this on local terminal window\n",
    "- generate private public ssh key, copy it to wynton"
   ]
  },
  {
   "cell_type": "markdown",
   "id": "12034ec2",
   "metadata": {},
   "source": [
    "##### step 1 - generate key"
   ]
  },
  {
   "cell_type": "code",
   "execution_count": null,
   "id": "320c961f",
   "metadata": {},
   "outputs": [],
   "source": [
    "%%bash\n",
    "\n",
    "mkdir ./.ssh  # make directory\n",
    "\n",
    "chmod u=rwx,go= ./.ssh  # change permissions for directory \n",
    "\n",
    "ssh-keygen -m PEM -f ./.ssh/laptop_to_wynton  # generate the key"
   ]
  },
  {
   "cell_type": "markdown",
   "id": "f82c223f",
   "metadata": {},
   "source": [
    "##### step 2 - copy key to wynton"
   ]
  },
  {
   "cell_type": "code",
   "execution_count": null,
   "id": "9f5fe168",
   "metadata": {},
   "outputs": [],
   "source": [
    "%%bash\n",
    "\n",
    "-i ./.ssh/laptop_to_wynton.pub USERNAME@log1.wynton.ucsf.edu  # will prompt login to add key to wynton"
   ]
  },
  {
   "cell_type": "markdown",
   "id": "e46f59cd",
   "metadata": {},
   "source": [
    "##### step 3 - login to wynton using key"
   ]
  },
  {
   "cell_type": "code",
   "execution_count": null,
   "id": "1f2e41ee",
   "metadata": {},
   "outputs": [],
   "source": [
    "%%bash\n",
    "\n",
    "ssh -o PreferredAuthentications=publickey,keyboard-interactive -o IdentitiesOnly=yes -i ./.ssh/laptop_to_wynton USERNAME@log1.wynton.ucsf.edu"
   ]
  },
  {
   "cell_type": "markdown",
   "id": "fa03d15a",
   "metadata": {},
   "source": [
    "##### step 4 - set up ssh config, add wynton info\n",
    "\n",
    "add a bunch of lines to the config\n",
    "\n",
    "make config "
   ]
  },
  {
   "cell_type": "code",
   "execution_count": null,
   "id": "ef0b2b33",
   "metadata": {},
   "outputs": [],
   "source": [
    "%%bash\n",
    "\n",
    "touch ./.ssh/config    "
   ]
  },
  {
   "cell_type": "markdown",
   "id": "3f8d6e78",
   "metadata": {},
   "source": [
    "add login info to config"
   ]
  },
  {
   "cell_type": "code",
   "execution_count": null,
   "id": "74f827e3",
   "metadata": {},
   "outputs": [],
   "source": [
    "%%bash\n",
    "\n",
    "echo 'Host *.wynton.ucsf.edu' >>./.ssh/config\n",
    "\n",
    "echo 'User USERNAME' >>./.ssh/config\n",
    "\n",
    "echo 'IdentityFile ./.ssh/laptop_to_wynton' >>./.ssh/config"
   ]
  },
  {
   "cell_type": "markdown",
   "id": "8b1cce4a",
   "metadata": {},
   "source": [
    "add proxyjump to config to login directly to dev2"
   ]
  },
  {
   "cell_type": "code",
   "execution_count": null,
   "id": "557aea95",
   "metadata": {},
   "outputs": [],
   "source": [
    "%%bash\n",
    "\n",
    "echo 'Host *dev?.wynton.ucsf.edu' >>./.ssh/config\n",
    "echo 'ProxyJump log1.wynton.ucsf.edu' >>./.ssh/config"
   ]
  },
  {
   "cell_type": "markdown",
   "id": "9c6d4110",
   "metadata": {},
   "source": [
    "##### add login alias to .bash_profile \n",
    "- do this on local terminal window\n",
    "\n",
    "        echo 'alias wynton=\"ssh dev2.wynton.ucsf.edu\"' >>./.bash_profile"
   ]
  },
  {
   "cell_type": "markdown",
   "id": "6a9dad7d",
   "metadata": {},
   "source": [
    "# Set up conda virtual environment \n",
    "Important for running specific packages into your environment without destroying wynton for everyone else. "
   ]
  },
  {
   "cell_type": "markdown",
   "id": "42b49bc9",
   "metadata": {},
   "source": [
    "## load miniconda\n",
    "- find latest version by running \n",
    "\n",
    "        ml spider miniconda "
   ]
  },
  {
   "cell_type": "markdown",
   "id": "e3479c42",
   "metadata": {},
   "source": [
    "### add shortcut to load miniconda upon login "
   ]
  },
  {
   "cell_type": "code",
   "execution_count": null,
   "id": "c09f1f81",
   "metadata": {},
   "outputs": [],
   "source": [
    "# On wynton, in your home directory\n",
    "\n",
    "%%bash\n",
    "\n",
    "echo 'if [[ -n \"$MODULEPATH\" ]]'  >>./.bash_profile\n",
    "echo 'then'  >>./.bash_profile\n",
    "echo '    ml load CBI miniconda3-py39/4.12.0' >>./.bash_profile\n",
    "echo 'fi' >>./.bash_profile"
   ]
  },
  {
   "cell_type": "markdown",
   "id": "4bad6aa1",
   "metadata": {},
   "source": [
    "## create virtual environment\n",
    "\n",
    "Change MYENVNAME to whatever you want to name you virtual environment"
   ]
  },
  {
   "cell_type": "code",
   "execution_count": null,
   "id": "0182d8de",
   "metadata": {},
   "outputs": [],
   "source": [
    "%%bash\n",
    "\n",
    "conda create -n MYENVNAME"
   ]
  },
  {
   "cell_type": "markdown",
   "id": "304ec9a2",
   "metadata": {},
   "source": [
    "(replace \"MYENVNAME\" with your environment name) "
   ]
  },
  {
   "cell_type": "markdown",
   "id": "cab7f85c",
   "metadata": {},
   "source": [
    "## add shortcut virtual environment alias to  .bash_profile"
   ]
  },
  {
   "cell_type": "code",
   "execution_count": null,
   "id": "d67517d8",
   "metadata": {},
   "outputs": [],
   "source": [
    "%%bash\n",
    "\n",
    "echo 'alias env=\"conda activate MYENVNAME\"' >>./.bash_profile"
   ]
  },
  {
   "cell_type": "markdown",
   "id": "7c31926f",
   "metadata": {},
   "source": [
    "now, type 'env' in wynton terminal, and activate your environment. "
   ]
  },
  {
   "cell_type": "markdown",
   "id": "f54881d0",
   "metadata": {},
   "source": [
    "## download jupyter notebooks "
   ]
  },
  {
   "cell_type": "code",
   "execution_count": null,
   "id": "e9c60297",
   "metadata": {},
   "outputs": [],
   "source": [
    "%%bash\n",
    "\n",
    "env  # activate conda environment w alias\n",
    "\n",
    "conda install -c anaconda jupyter  # command to install jupyter from anaconda channel (-c)"
   ]
  },
  {
   "cell_type": "markdown",
   "id": "d76c32a2",
   "metadata": {},
   "source": [
    "# tunneling wynton to your local computer"
   ]
  },
  {
   "cell_type": "markdown",
   "id": "01dc2955",
   "metadata": {},
   "source": [
    "## pick your favorite 4-digit number for the PORTNUMBER\n",
    "e.g. my favorite is 7778. \n",
    "\n",
    "(DO NOT CHOOSE 7778. I WILL FIND YOU.)"
   ]
  },
  {
   "cell_type": "markdown",
   "id": "8e9f7661",
   "metadata": {},
   "source": [
    "## write bash script to launch notebook on wynton\n",
    "\n",
    "run this bash file whenever you tunnel from wynton to your local computer"
   ]
  },
  {
   "cell_type": "code",
   "execution_count": null,
   "id": "c3b5ecf4",
   "metadata": {},
   "outputs": [],
   "source": [
    "%%bash\n",
    "\n",
    "touch nb.sh  # make a file to launch your notebook\n",
    "\n",
    "echo 'source activate MYENVNAME'  >>./nb.sh  # add line to active virtual env before you run your notebook\n",
    "\n",
    "echo \"jupyter notebook --no-browser --ip='*' --port=PORTNUMBER\" >>./nb.sh  # add line w favorite portnumber"
   ]
  },
  {
   "cell_type": "markdown",
   "id": "289306e6",
   "metadata": {},
   "source": [
    "### add short cut to launch wynton on jupyter"
   ]
  },
  {
   "cell_type": "code",
   "execution_count": null,
   "id": "9a59a935",
   "metadata": {},
   "outputs": [],
   "source": [
    "%%bash\n",
    "\n",
    "echo 'alias nb=\"bash ./nb.sh\"' >>./.bash_profile  "
   ]
  },
  {
   "cell_type": "markdown",
   "id": "7a2a616a",
   "metadata": {},
   "source": [
    "## set up tunneling command on your local computer"
   ]
  },
  {
   "cell_type": "markdown",
   "id": "3290a711",
   "metadata": {
    "ExecuteTime": {
     "end_time": "2023-06-22T21:49:15.947275Z",
     "start_time": "2023-06-22T21:49:15.883559Z"
    }
   },
   "source": [
    "ON LOCAL COMPUTER \n",
    "\n",
    "- add function to tunnel to your port on wynton\n",
    "- you will have to enter the port number manually (see step 4 below)"
   ]
  },
  {
   "cell_type": "code",
   "execution_count": null,
   "id": "f368efa4",
   "metadata": {},
   "outputs": [],
   "source": [
    "%%bash\n",
    " \n",
    "echo 'function wnb { ssh -o PreferredAuthentications=publickey,keyboard-interactive -o IdentitiesOnly=yes -i ~/.ssh/laptop_to_wynton USERNAME@dev2.wynton.ucsf.edu -J USERNAME@log1.wynton.ucsf.edu -L 9999:localhost:\"$1\"; }'>>./.zprofile  \n",
    " \n",
    "echo 'export -f wnb' >>./.zprofile"
   ]
  },
  {
   "cell_type": "markdown",
   "id": "4ac0a04f",
   "metadata": {},
   "source": [
    "# Tunneling, finally"
   ]
  },
  {
   "cell_type": "markdown",
   "id": "653335c3",
   "metadata": {},
   "source": [
    "## log into wynton from your local computer"
   ]
  },
  {
   "cell_type": "code",
   "execution_count": null,
   "id": "589324a9",
   "metadata": {},
   "outputs": [],
   "source": [
    "%%bash\n",
    "\n",
    "wynton"
   ]
  },
  {
   "cell_type": "markdown",
   "id": "6c920525",
   "metadata": {
    "ExecuteTime": {
     "end_time": "2023-06-22T21:51:23.664844Z",
     "start_time": "2023-06-22T21:51:23.660137Z"
    }
   },
   "source": [
    "## on wynton, run jupyter notebook from your favorite port"
   ]
  },
  {
   "cell_type": "code",
   "execution_count": null,
   "id": "b80c9554",
   "metadata": {},
   "outputs": [],
   "source": [
    "%%bash\n",
    "\n",
    "nb"
   ]
  },
  {
   "cell_type": "markdown",
   "id": "62e58a17",
   "metadata": {},
   "source": [
    "## Open up new terminal window on local computer (ctrl+ tab) \n",
    "\n",
    "connect to wynton"
   ]
  },
  {
   "cell_type": "code",
   "execution_count": null,
   "id": "b969a169",
   "metadata": {},
   "outputs": [],
   "source": [
    "%%bash\n",
    "wnb PORTNUMBER"
   ]
  },
  {
   "cell_type": "markdown",
   "id": "9cbeb722",
   "metadata": {},
   "source": [
    "## in web browser, go to web address http://localhost:9999"
   ]
  },
  {
   "cell_type": "markdown",
   "id": "8e20e335",
   "metadata": {
    "ExecuteTime": {
     "end_time": "2023-06-22T21:55:20.760024Z",
     "start_time": "2023-06-22T21:55:20.752351Z"
    }
   },
   "source": [
    "Set up a very very easy password to remember. And you did it!"
   ]
  }
 ],
 "metadata": {
  "kernelspec": {
   "display_name": "Python (wynenv)",
   "language": "python",
   "name": "wynenv"
  },
  "language_info": {
   "codemirror_mode": {
    "name": "ipython",
    "version": 3
   },
   "file_extension": ".py",
   "mimetype": "text/x-python",
   "name": "python",
   "nbconvert_exporter": "python",
   "pygments_lexer": "ipython3",
   "version": "3.10.8"
  },
  "toc": {
   "base_numbering": 1,
   "nav_menu": {},
   "number_sections": true,
   "sideBar": true,
   "skip_h1_title": false,
   "title_cell": "Table of Contents",
   "title_sidebar": "Contents",
   "toc_cell": false,
   "toc_position": {},
   "toc_section_display": true,
   "toc_window_display": false
  },
  "varInspector": {
   "cols": {
    "lenName": 16,
    "lenType": 16,
    "lenVar": 40
   },
   "kernels_config": {
    "python": {
     "delete_cmd_postfix": "",
     "delete_cmd_prefix": "del ",
     "library": "var_list.py",
     "varRefreshCmd": "print(var_dic_list())"
    },
    "r": {
     "delete_cmd_postfix": ") ",
     "delete_cmd_prefix": "rm(",
     "library": "var_list.r",
     "varRefreshCmd": "cat(var_dic_list()) "
    }
   },
   "types_to_exclude": [
    "module",
    "function",
    "builtin_function_or_method",
    "instance",
    "_Feature"
   ],
   "window_display": false
  }
 },
 "nbformat": 4,
 "nbformat_minor": 5
}
