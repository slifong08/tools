{
 "cells": [
  {
   "cell_type": "markdown",
   "id": "a7813ad2",
   "metadata": {},
   "source": [
    "sarahfong\n",
    "# Overview\n",
    "This notebook details how to set up a *fairly* seamless wynton login/environment\n",
    "\n",
    "- Here I detail:\n",
    "    1. how to get setup on wynton \n",
    "    2. how to login to wynton *without using your password*\n",
    "    3. how to set up a virtual environment with miniconda and jupyter notebooks on wynton\n",
    "    4. how to tunnel from your local computer to wynton\n",
    "\n",
    "# How to get setup on wynton"
   ]
  },
  {
   "cell_type": "markdown",
   "id": "da64fa02",
   "metadata": {},
   "source": [
    "## Request a wynton account"
   ]
  },
  {
   "cell_type": "markdown",
   "id": "2f470487",
   "metadata": {},
   "source": [
    "website - https://wynton.ucsf.edu/hpc/about/join.html\n",
    "    \n",
    "1. select \"Request a Wynton Account / Modify an Existing Account (requires UCSF MyAccess login)\"\n",
    "2. login to MyAccess\n",
    "3. set Nadav as the PI in UCSF PI Email\n",
    "4. Which email address do I use? \n",
    "    - UCSF email account, preferred\n",
    "    - personal email address, less preferrable. \n",
    "5. once you receive your username and password from wynton, login. "
   ]
  },
  {
   "cell_type": "markdown",
   "id": "32886b19",
   "metadata": {},
   "source": [
    "# Login to wynton"
   ]
  },
  {
   "cell_type": "markdown",
   "id": "beaf15cb",
   "metadata": {},
   "source": [
    "In **local terminal**, use your username, and enter: \n",
    "\n",
    "- replace \"USERNAME\" with your username\n",
    "\n",
    " **do not type '%%bash'**\n",
    "   - this command only works inside jupyter notebooks"
   ]
  },
  {
   "cell_type": "code",
   "execution_count": null,
   "id": "95730fe1",
   "metadata": {
    "ExecuteTime": {
     "end_time": "2023-09-21T22:24:54.688732Z",
     "start_time": "2023-09-21T22:24:53.080818Z"
    }
   },
   "outputs": [],
   "source": [
    "%%bash \n",
    "\n",
    "ssh USERNAME@log1.wynton.ucsf.edu"
   ]
  },
  {
   "cell_type": "markdown",
   "id": "7226e395",
   "metadata": {},
   "source": [
    "## Login to wynton without password\n",
    "- In the section below, I try to recap steps 1-4 outlined here: https://wynton.ucsf.edu/hpc/howto/log-in-without-pwd.html\n",
    "\n",
    "\n",
    "- At bottom of page, follow \"Connect directly to a development node\" steps. \n",
    "\n",
    "**THIS WILL SAVE YOU SO MUCH TIME**"
   ]
  },
  {
   "cell_type": "markdown",
   "id": "3677e3f4",
   "metadata": {},
   "source": [
    "1. Setup public-private ssh key, passphrase\n",
    "- In **local terminal** \n",
    "- generate private public ssh key, copy it to wynton"
   ]
  },
  {
   "cell_type": "markdown",
   "id": "12034ec2",
   "metadata": {},
   "source": [
    "### generate key\n",
    "- In **local terminal** "
   ]
  },
  {
   "cell_type": "code",
   "execution_count": null,
   "id": "320c961f",
   "metadata": {},
   "outputs": [],
   "source": [
    "%%bash\n",
    "\n",
    "mkdir ./.ssh  # make directory\n",
    "\n",
    "chmod u=rwx,go= ./.ssh  # change permissions for directory \n",
    "\n",
    "ssh-keygen -m PEM -f ./.ssh/laptop_to_wynton  # generate the key"
   ]
  },
  {
   "cell_type": "markdown",
   "id": "f82c223f",
   "metadata": {},
   "source": [
    "### copy key to wynton\n",
    "- In **local terminal** "
   ]
  },
  {
   "cell_type": "code",
   "execution_count": null,
   "id": "9f5fe168",
   "metadata": {},
   "outputs": [],
   "source": [
    "%%bash\n",
    "\n",
    "ssh-copy-id -i ./.ssh/laptop_to_wynton.pub USERNAME@log1.wynton.ucsf.edu  \n",
    "\n",
    "# this command will prompt login to add key to wynton"
   ]
  },
  {
   "cell_type": "markdown",
   "id": "e46f59cd",
   "metadata": {},
   "source": [
    "### login to wynton using key\n",
    "- In **local terminal**"
   ]
  },
  {
   "cell_type": "code",
   "execution_count": null,
   "id": "1f2e41ee",
   "metadata": {},
   "outputs": [],
   "source": [
    "%%bash\n",
    "\n",
    "ssh -o PreferredAuthentications=publickey,keyboard-interactive -o IdentitiesOnly=yes -i ./.ssh/laptop_to_wynton USERNAME@log1.wynton.ucsf.edu"
   ]
  },
  {
   "cell_type": "markdown",
   "id": "fa03d15a",
   "metadata": {},
   "source": [
    "### set up ssh config, add wynton info\n",
    "- In **local terminal**\n",
    "\n",
    "- make config "
   ]
  },
  {
   "cell_type": "code",
   "execution_count": null,
   "id": "ef0b2b33",
   "metadata": {},
   "outputs": [],
   "source": [
    "%%bash\n",
    "\n",
    "touch ./.ssh/config    "
   ]
  },
  {
   "cell_type": "markdown",
   "id": "3f8d6e78",
   "metadata": {},
   "source": [
    "### add login info to config\n",
    "- In **local terminal** "
   ]
  },
  {
   "cell_type": "code",
   "execution_count": null,
   "id": "74f827e3",
   "metadata": {},
   "outputs": [],
   "source": [
    "%%bash\n",
    "\n",
    "echo 'Host *.wynton.ucsf.edu' >>./.ssh/config\n",
    "\n",
    "echo 'User USERNAME' >>./.ssh/config\n",
    "\n",
    "echo 'IdentityFile ./.ssh/laptop_to_wynton' >>./.ssh/config"
   ]
  },
  {
   "cell_type": "markdown",
   "id": "8b1cce4a",
   "metadata": {},
   "source": [
    "### add proxyjump to config to login directly to dev2\n",
    "- In **local terminal** "
   ]
  },
  {
   "cell_type": "code",
   "execution_count": null,
   "id": "557aea95",
   "metadata": {},
   "outputs": [],
   "source": [
    "%%bash\n",
    "\n",
    "echo 'Host *dev?.wynton.ucsf.edu' >>./.ssh/config\n",
    "echo 'ProxyJump log1.wynton.ucsf.edu' >>./.ssh/config"
   ]
  },
  {
   "cell_type": "markdown",
   "id": "45f8eae8",
   "metadata": {},
   "source": [
    "### add login alias to .bash_profile \n",
    "- In **local terminal**"
   ]
  },
  {
   "cell_type": "code",
   "execution_count": null,
   "id": "399e962d",
   "metadata": {
    "ExecuteTime": {
     "end_time": "2023-09-21T22:17:05.125501Z",
     "start_time": "2023-09-21T22:17:05.015693Z"
    }
   },
   "outputs": [],
   "source": [
    "%%bash\n",
    "\n",
    "echo 'alias wynton=\"ssh dev2.wynton.ucsf.edu\"' >>./.bash_profile"
   ]
  },
  {
   "cell_type": "markdown",
   "id": "8e6dfdf5",
   "metadata": {},
   "source": [
    "### test proxy jump\n",
    "- In **local terminal** "
   ]
  },
  {
   "cell_type": "code",
   "execution_count": null,
   "id": "e38d8498",
   "metadata": {},
   "outputs": [],
   "source": [
    "%%bash\n",
    "\n",
    "wynton"
   ]
  },
  {
   "cell_type": "markdown",
   "id": "6a9dad7d",
   "metadata": {},
   "source": [
    "# Set up conda virtual environment and Jupyter Notebooks\n",
    "- Important for running software packages into your environment without destroying wynton for everyone else. \n",
    "\n",
    "\n"
   ]
  },
  {
   "cell_type": "markdown",
   "id": "d8df1f35",
   "metadata": {},
   "source": [
    "## load miniconda\n",
    "- In **Wynton terminal**\n",
    "- find latest version by running"
   ]
  },
  {
   "cell_type": "code",
   "execution_count": null,
   "id": "a395d99a",
   "metadata": {},
   "outputs": [],
   "source": [
    "%%bash\n",
    "\n",
    "ml spider miniconda "
   ]
  },
  {
   "cell_type": "markdown",
   "id": "e3479c42",
   "metadata": {},
   "source": [
    "### add shortcut to load miniconda upon login \n",
    "- In **Wynton terminal**\n",
    "- On wynton, **in your home directory**"
   ]
  },
  {
   "cell_type": "code",
   "execution_count": null,
   "id": "c09f1f81",
   "metadata": {},
   "outputs": [],
   "source": [
    "%%bash\n",
    "\n",
    "echo 'if [[ -n \"$MODULEPATH\" ]]'  >>./.bash_profile\n",
    "echo 'then'  >>./.bash_profile\n",
    "echo '    ml load CBI miniconda3-py39/4.12.0' >>./.bash_profile\n",
    "echo 'fi' >>./.bash_profile"
   ]
  },
  {
   "cell_type": "markdown",
   "id": "4bad6aa1",
   "metadata": {},
   "source": [
    "## create virtual environment\n",
    "\n",
    "- run command below\n",
    "- **Replace MYENVNAME** to whatever name for your virtual environment\n",
    "- In **Wynton terminal**"
   ]
  },
  {
   "cell_type": "code",
   "execution_count": null,
   "id": "0182d8de",
   "metadata": {},
   "outputs": [],
   "source": [
    "%%bash\n",
    "\n",
    "conda create -n MYENVNAME"
   ]
  },
  {
   "cell_type": "markdown",
   "id": "cab7f85c",
   "metadata": {},
   "source": [
    "## add shortcut virtual environment alias to  .bash_profile\n",
    "- **Replace MYENVNAME** to whatever name for your virtual environment\n",
    "- In **Wynton terminal**"
   ]
  },
  {
   "cell_type": "code",
   "execution_count": null,
   "id": "d67517d8",
   "metadata": {},
   "outputs": [],
   "source": [
    "%%bash\n",
    "\n",
    "echo 'alias env=\"conda activate MYENVNAME\"' >>./.bash_profile"
   ]
  },
  {
   "cell_type": "markdown",
   "id": "7c31926f",
   "metadata": {},
   "source": [
    "## activate your environment\n",
    "- run command below\n",
    "- In **Wynton terminal**"
   ]
  },
  {
   "cell_type": "code",
   "execution_count": null,
   "id": "7801a44a",
   "metadata": {},
   "outputs": [],
   "source": [
    "%%bash\n",
    "\n",
    "env"
   ]
  },
  {
   "cell_type": "markdown",
   "id": "f54881d0",
   "metadata": {},
   "source": [
    "## download jupyter notebooks \n",
    "- In **Wynton terminal**"
   ]
  },
  {
   "cell_type": "code",
   "execution_count": null,
   "id": "e9c60297",
   "metadata": {},
   "outputs": [],
   "source": [
    "%%bash\n",
    "\n",
    "env  # activate conda environment w alias\n",
    "\n",
    "conda install -c conda-forge jupyter  # command to install jupyter from anaconda channel (-c)"
   ]
  },
  {
   "cell_type": "markdown",
   "id": "d76c32a2",
   "metadata": {},
   "source": [
    "# tunneling wynton to your local computer"
   ]
  },
  {
   "cell_type": "markdown",
   "id": "01dc2955",
   "metadata": {},
   "source": [
    "## pick your favorite 4-digit number for the PORTNUMBER\n",
    "e.g. my favorite is 7778. \n",
    "\n",
    "(DO NOT CHOOSE 7778. I WILL FIND YOU.)"
   ]
  },
  {
   "cell_type": "markdown",
   "id": "8e9f7661",
   "metadata": {},
   "source": [
    "## write bash script to launch notebook on wynton\n",
    "\n",
    "run this bash file whenever you tunnel from wynton to your local computer\n",
    "- In **Wynton terminal**"
   ]
  },
  {
   "cell_type": "code",
   "execution_count": null,
   "id": "c3b5ecf4",
   "metadata": {},
   "outputs": [],
   "source": [
    "%%bash\n",
    "\n",
    "touch nb.sh  # make a file to launch your notebook\n",
    "\n",
    "echo 'source activate MYENVNAME'  >>./nb.sh  # add line to active virtual env before you run your notebook\n",
    "\n",
    "echo \"jupyter notebook --no-browser --ip='*' --port=PORTNUMBER\" >>./nb.sh  # add line w favorite portnumber"
   ]
  },
  {
   "cell_type": "markdown",
   "id": "289306e6",
   "metadata": {},
   "source": [
    "### add short cut to launch wynton on jupyter\n",
    "- In **Wynton terminal**"
   ]
  },
  {
   "cell_type": "code",
   "execution_count": null,
   "id": "9a59a935",
   "metadata": {},
   "outputs": [],
   "source": [
    "%%bash\n",
    "\n",
    "echo 'alias nb=\"bash ./nb.sh\"' >>./.bash_profile  # add shortcut to .bash_profile"
   ]
  },
  {
   "cell_type": "markdown",
   "id": "7a2a616a",
   "metadata": {},
   "source": [
    "## set up tunneling command on your local computer"
   ]
  },
  {
   "cell_type": "markdown",
   "id": "3290a711",
   "metadata": {
    "ExecuteTime": {
     "end_time": "2023-06-22T21:49:15.947275Z",
     "start_time": "2023-06-22T21:49:15.883559Z"
    }
   },
   "source": [
    "On **local terminal**\n",
    "\n",
    "- add function to tunnel to your port on wynton\n",
    "- you will have to enter the port number manually (see step 4 below)"
   ]
  },
  {
   "cell_type": "code",
   "execution_count": null,
   "id": "f368efa4",
   "metadata": {},
   "outputs": [],
   "source": [
    "%%bash\n",
    " \n",
    "echo 'function wnb { ssh -o PreferredAuthentications=publickey,keyboard-interactive -o IdentitiesOnly=yes -i ~/.ssh/laptop_to_wynton USERNAME@dev2.wynton.ucsf.edu -J USERNAME@log1.wynton.ucsf.edu -L 9999:localhost:\"$1\"; }'>>./.zprofile  \n",
    " \n",
    "echo 'export -f wnb' >>./.zprofile"
   ]
  },
  {
   "cell_type": "markdown",
   "id": "4ac0a04f",
   "metadata": {},
   "source": [
    "## Tunneling, finally"
   ]
  },
  {
   "cell_type": "markdown",
   "id": "653335c3",
   "metadata": {},
   "source": [
    "### log into wynton from your local computer\n",
    "- In **local terminal**"
   ]
  },
  {
   "cell_type": "code",
   "execution_count": null,
   "id": "589324a9",
   "metadata": {},
   "outputs": [],
   "source": [
    "%%bash\n",
    "\n",
    "wynton"
   ]
  },
  {
   "cell_type": "markdown",
   "id": "6c920525",
   "metadata": {
    "ExecuteTime": {
     "end_time": "2023-06-22T21:51:23.664844Z",
     "start_time": "2023-06-22T21:51:23.660137Z"
    }
   },
   "source": [
    "### on wynton, run jupyter notebook from your favorite port\n",
    "- In **Wynton terminal** "
   ]
  },
  {
   "cell_type": "code",
   "execution_count": null,
   "id": "b80c9554",
   "metadata": {},
   "outputs": [],
   "source": [
    "%%bash\n",
    "\n",
    "nb"
   ]
  },
  {
   "cell_type": "markdown",
   "id": "62e58a17",
   "metadata": {},
   "source": [
    "### Open up new terminal window on local computer\n",
    "- In another **local terminal**  (ctrl+ tab) \n",
    "- connect to wynton\n",
    "- change PORTNUMBER to your portnumber from step 3.1"
   ]
  },
  {
   "cell_type": "code",
   "execution_count": null,
   "id": "b969a169",
   "metadata": {},
   "outputs": [],
   "source": [
    "%%bash\n",
    "wnb PORTNUMBER"
   ]
  },
  {
   "cell_type": "markdown",
   "id": "9cbeb722",
   "metadata": {},
   "source": [
    "### in web browser, go to web address http://localhost:PORTNUMBER"
   ]
  },
  {
   "cell_type": "markdown",
   "id": "8e20e335",
   "metadata": {
    "ExecuteTime": {
     "end_time": "2023-06-22T21:55:20.760024Z",
     "start_time": "2023-06-22T21:55:20.752351Z"
    }
   },
   "source": [
    "Remember **both your password and passphrase**\n",
    "\n",
    "And you did it!"
   ]
  },
  {
   "cell_type": "code",
   "execution_count": null,
   "id": "11c8e495",
   "metadata": {},
   "outputs": [],
   "source": []
  }
 ],
 "metadata": {
  "kernelspec": {
   "display_name": "Python (mamba)",
   "language": "python",
   "name": "mamba"
  },
  "language_info": {
   "codemirror_mode": {
    "name": "ipython",
    "version": 3
   },
   "file_extension": ".py",
   "mimetype": "text/x-python",
   "name": "python",
   "nbconvert_exporter": "python",
   "pygments_lexer": "ipython3",
   "version": "3.9.16"
  },
  "toc": {
   "base_numbering": 1,
   "nav_menu": {},
   "number_sections": true,
   "sideBar": true,
   "skip_h1_title": false,
   "title_cell": "Table of Contents",
   "title_sidebar": "Contents",
   "toc_cell": false,
   "toc_position": {},
   "toc_section_display": true,
   "toc_window_display": false
  },
  "varInspector": {
   "cols": {
    "lenName": 16,
    "lenType": 16,
    "lenVar": 40
   },
   "kernels_config": {
    "python": {
     "delete_cmd_postfix": "",
     "delete_cmd_prefix": "del ",
     "library": "var_list.py",
     "varRefreshCmd": "print(var_dic_list())"
    },
    "r": {
     "delete_cmd_postfix": ") ",
     "delete_cmd_prefix": "rm(",
     "library": "var_list.r",
     "varRefreshCmd": "cat(var_dic_list()) "
    }
   },
   "types_to_exclude": [
    "module",
    "function",
    "builtin_function_or_method",
    "instance",
    "_Feature"
   ],
   "window_display": false
  }
 },
 "nbformat": 4,
 "nbformat_minor": 5
}
