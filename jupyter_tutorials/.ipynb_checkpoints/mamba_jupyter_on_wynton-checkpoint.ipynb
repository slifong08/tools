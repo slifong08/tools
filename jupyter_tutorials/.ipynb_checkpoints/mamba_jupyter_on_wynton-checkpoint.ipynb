{
 "cells": [
  {
   "cell_type": "markdown",
   "id": "e60ebc27-3b11-482f-9fbf-2e686ddac1e9",
   "metadata": {},
   "source": [
    "sarahfong\n",
    "# Overview\n",
    "This notebook details how to set up a *fairly* seamless wynton login/environment\n",
    "\n",
    "- Here I detail:\n",
    "    1. how to get setup on wynton \n",
    "    2. how to login to wynton *without using your password*\n",
    "    3. how to set up a virtual environment with micromamba and jupyter notebooks on wynton\n",
    "    4. how to tunnel from your local computer to wynton"
   ]
  },
  {
   "attachments": {},
   "cell_type": "markdown",
   "id": "711b5f54-2be1-4ded-a26f-a42919601ed9",
   "metadata": {},
   "source": [
    "# How to get setup on wynton\n",
    "\n",
    "## Request a wynton account"
   ]
  },
  {
   "cell_type": "markdown",
   "id": "2f470487",
   "metadata": {},
   "source": [
    "website - https://wynton.ucsf.edu/hpc/about/join.html\n",
    "    \n",
    "1. select \"Request a Wynton Account / Modify an Existing Account (requires UCSF MyAccess login)\"\n",
    "2. login to MyAccess\n",
    "3. set Nadav as the PI in UCSF PI Email\n",
    "4. Which email address do I use? \n",
    "    - UCSF email account, preferrable.\n",
    "    - personal email address, less preferrable. \n",
    "5. once you receive your username and password from wynton, login. "
   ]
  },
  {
   "cell_type": "markdown",
   "id": "32886b19",
   "metadata": {},
   "source": [
    "# Login to wynton"
   ]
  },
  {
   "cell_type": "markdown",
   "id": "beaf15cb",
   "metadata": {},
   "source": [
    "In **local terminal**, use your username, and enter\n",
    "\n",
    "\n",
    "- replace \"USERNAME\" with your username\n",
    "\n"
   ]
  },
  {
   "cell_type": "code",
   "execution_count": null,
   "id": "95730fe1",
   "metadata": {
    "ExecuteTime": {
     "end_time": "2023-09-21T22:24:54.688732Z",
     "start_time": "2023-09-21T22:24:53.080818Z"
    }
   },
   "outputs": [],
   "source": [
    "\n",
    "\n",
    "ssh USERNAME@log1.wynton.ucsf.edu\n",
    "\n"
   ]
  },
  {
   "cell_type": "markdown",
   "id": "7226e395",
   "metadata": {},
   "source": [
    "## Login to wynton without password\n",
    "- In the section below, I try to recap steps 1-4 outlined here: https://wynton.ucsf.edu/hpc/howto/log-in-without-pwd.html\n",
    "\n",
    "\n",
    "- At bottom of page, follow \"Connect directly to a development node\" steps. \n",
    "\n",
    "**THIS WILL SAVE YOU SO MUCH TIME**"
   ]
  },
  {
   "cell_type": "markdown",
   "id": "3677e3f4",
   "metadata": {},
   "source": [
    "1. Setup public-private ssh key, passphrase\n",
    " \n",
    "- generate private public ssh key, copy it to wynton\n",
    "- Run in **local terminal**"
   ]
  },
  {
   "cell_type": "markdown",
   "id": "12034ec2",
   "metadata": {},
   "source": [
    "### generate key\n",
    "- In **local terminal** "
   ]
  },
  {
   "cell_type": "code",
   "execution_count": null,
   "id": "320c961f",
   "metadata": {},
   "outputs": [],
   "source": [
    "\n",
    "\n",
    "mkdir ./.ssh  # make directory\n",
    "\n",
    "chmod u=rwx,go= ./.ssh  # change permissions for directory \n",
    "\n",
    "ssh-keygen -m PEM -f ./.ssh/laptop_to_wynton  # generate the key\n",
    "\n"
   ]
  },
  {
   "cell_type": "markdown",
   "id": "f82c223f",
   "metadata": {},
   "source": [
    "### copy key to wynton\n",
    "\n",
    "- change USERNAME to your username\n",
    "- Run in **local terminal**"
   ]
  },
  {
   "cell_type": "code",
   "execution_count": null,
   "id": "9f5fe168",
   "metadata": {},
   "outputs": [],
   "source": [
    "\n",
    "\n",
    "ssh-copy-id -i ./.ssh/laptop_to_wynton.pub USERNAME@log1.wynton.ucsf.edu  \n",
    "\n",
    "# this command will prompt login to add key to wynton\n",
    "\n"
   ]
  },
  {
   "cell_type": "markdown",
   "id": "e46f59cd",
   "metadata": {},
   "source": [
    "### login to wynton using key\n",
    "- change USERNAME to your username\n",
    "- Run in **local terminal**"
   ]
  },
  {
   "cell_type": "code",
   "execution_count": null,
   "id": "1f2e41ee",
   "metadata": {},
   "outputs": [],
   "source": [
    "\n",
    "\n",
    "ssh -o PreferredAuthentications=publickey,keyboard-interactive -o IdentitiesOnly=yes -i ./.ssh/laptop_to_wynton USERNAME@log1.wynton.ucsf.edu\n",
    "\n"
   ]
  },
  {
   "cell_type": "markdown",
   "id": "fa03d15a",
   "metadata": {},
   "source": [
    "### set up ssh config, add wynton info\n",
    "- make config \n",
    "- Run in **local terminal**\n",
    "\n"
   ]
  },
  {
   "cell_type": "code",
   "execution_count": null,
   "id": "ef0b2b33",
   "metadata": {},
   "outputs": [],
   "source": [
    "\n",
    "\n",
    "touch ./.ssh/config    \n",
    "\n"
   ]
  },
  {
   "cell_type": "markdown",
   "id": "3f8d6e78",
   "metadata": {},
   "source": [
    "### add login info to config\n",
    "- change USERNAME to your username\n",
    "- Run in **local terminal**"
   ]
  },
  {
   "cell_type": "code",
   "execution_count": null,
   "id": "74f827e3",
   "metadata": {},
   "outputs": [],
   "source": [
    "\n",
    "\n",
    "echo 'Host *.wynton.ucsf.edu' >>./.ssh/config\n",
    "\n",
    "echo 'User USERNAME' >>./.ssh/config\n",
    "\n",
    "echo 'IdentityFile ./.ssh/laptop_to_wynton' >>./.ssh/config\n",
    "\n"
   ]
  },
  {
   "cell_type": "markdown",
   "id": "8b1cce4a",
   "metadata": {},
   "source": [
    "### add proxyjump to config to login directly to dev2\n",
    "- Run in **local terminal**"
   ]
  },
  {
   "cell_type": "code",
   "execution_count": null,
   "id": "557aea95",
   "metadata": {},
   "outputs": [],
   "source": [
    "\n",
    "\n",
    "echo 'Host *dev?.wynton.ucsf.edu' >>./.ssh/config\n",
    "echo 'ProxyJump log1.wynton.ucsf.edu' >>./.ssh/config\n",
    "\n"
   ]
  },
  {
   "cell_type": "markdown",
   "id": "8e6dfdf5",
   "metadata": {},
   "source": [
    "#### test proxy jump"
   ]
  },
  {
   "cell_type": "code",
   "execution_count": null,
   "id": "e38d8498",
   "metadata": {},
   "outputs": [],
   "source": [
    "\n",
    "\n",
    "# open new local terminal\n",
    "\n",
    "ssh dev2.wynton.ucsf.edu\n",
    "\n"
   ]
  },
  {
   "cell_type": "markdown",
   "id": "6a9dad7d",
   "metadata": {},
   "source": [
    "# Set up mamba virtual environment and Jupyter Notebooks\n",
    "- Important for running software packages into your environment without destroying wynton for everyone else. \n",
    "\n",
    "\n"
   ]
  },
  {
   "cell_type": "markdown",
   "id": "d8df1f35",
   "metadata": {},
   "source": [
    "## download micromamba locally\n",
    "from https://mamba.readthedocs.io/en/latest/installation/micromamba-installation.html\n",
    "\n",
    "- Why micromamba?\n",
    "    - Micromamba functions *almost exactly* like conda, but much faster because it can parallelize package downloads. \n",
    "    - Wynton does not support micromamba, so you have to download a copy to your home directory and set it up.\n",
    "    - use \"micromamba\" like you would \"conda\"\n",
    "        - e.g. micromamba install ..., micromamba activate...  \n"
   ]
  },
  {
   "cell_type": "code",
   "execution_count": null,
   "id": "a395d99a",
   "metadata": {},
   "outputs": [],
   "source": [
    "\n",
    "\n",
    "# log on to dev2 gateway on wynton\n",
    "ssh dev2.wynton.ucsf.edu\n",
    "\n",
    "curl -Ls https://micro.mamba.pm/api/micromamba/linux-64/latest | tar -xvj bin/micromamba \n",
    "\n"
   ]
  },
  {
   "cell_type": "markdown",
   "id": "e3479c42",
   "metadata": {},
   "source": [
    "### add shortcut to load micromamba upon login "
   ]
  },
  {
   "cell_type": "code",
   "execution_count": null,
   "id": "c09f1f81",
   "metadata": {},
   "outputs": [],
   "source": [
    "\n",
    "\n",
    "# on dev2.wynton.ucsf.edu\n",
    "\n",
    "./bin/micromamba shell init -s bash -p ~/micromamba  # this writes to your .bashrc file\n",
    "\n",
    "# sourcing the bashrc file incorporates the changes into the running session.\n",
    "# better yet, restart your terminal!\n",
    "\n",
    "source ~/.bashrc\n",
    "\n"
   ]
  },
  {
   "cell_type": "markdown",
   "id": "4bad6aa1",
   "metadata": {},
   "source": [
    "## create virtual environment"
   ]
  },
  {
   "cell_type": "code",
   "execution_count": null,
   "id": "0182d8de",
   "metadata": {},
   "outputs": [],
   "source": [
    "\n",
    "\n",
    "# on dev2.wynton.ucsf.edu\n",
    "\n",
    "micromamba create -n myenv\n",
    "\n"
   ]
  },
  {
   "cell_type": "markdown",
   "id": "7c31926f",
   "metadata": {},
   "source": [
    "## activate your environment"
   ]
  },
  {
   "cell_type": "code",
   "execution_count": null,
   "id": "7801a44a",
   "metadata": {},
   "outputs": [],
   "source": [
    "\n",
    "\n",
    "# on dev2.wynton.ucsf.edu\n",
    "\n",
    "micromamba activate myenv\n",
    "\n"
   ]
  },
  {
   "cell_type": "markdown",
   "id": "f54881d0",
   "metadata": {},
   "source": [
    "## download jupyter notebooks "
   ]
  },
  {
   "cell_type": "code",
   "execution_count": null,
   "id": "e9c60297",
   "metadata": {},
   "outputs": [],
   "source": [
    "\n",
    "\n",
    "# on dev2.wynton.ucsf.edu\n",
    "\n",
    "micromamba install -c conda-forge jupyter  # command to install jupyter from conda-forge channel (-c)\n",
    "\n"
   ]
  },
  {
   "cell_type": "markdown",
   "id": "d76c32a2",
   "metadata": {},
   "source": [
    "# Setup tunneling wynton\n",
    "- copy launch script to home directory, rename the template file to \"launch_nb.sh\""
   ]
  },
  {
   "cell_type": "code",
   "execution_count": null,
   "id": "2663fc6a-e8ff-4898-9767-5d466f09cee3",
   "metadata": {},
   "outputs": [],
   "source": [
    "\n",
    "\n",
    "# on dev2.wynton.ucsf.edu\n",
    "\n",
    "cp /wynton/group/ahituv/bin/template_launch_nb.sh $HOME && mv $HOME/template_launch_nb.sh $HOME/launch_nb.sh\n",
    "\n"
   ]
  },
  {
   "cell_type": "markdown",
   "id": "01dc2955",
   "metadata": {},
   "source": [
    "## Get a PORTNUMBER"
   ]
  },
  {
   "cell_type": "code",
   "execution_count": null,
   "id": "2a647565-ec5b-4776-b327-4ccf5dee9810",
   "metadata": {},
   "outputs": [],
   "source": [
    "\n",
    "\n",
    "# on dev2.wynton.ucsf.edu\n",
    "\n",
    "module load CBI port4me\n",
    "\n",
    "port4me --tool=jupyter\n",
    "\n",
    "# e.g. this made 16171\n",
    "\n"
   ]
  },
  {
   "cell_type": "markdown",
   "id": "5694b456-b90e-4478-9c8e-52eca0c1a879",
   "metadata": {},
   "source": [
    "- write down this port number"
   ]
  },
  {
   "cell_type": "markdown",
   "id": "4170e50c-e54f-48f8-b4c3-c06c3979389d",
   "metadata": {},
   "source": [
    "## write unique port number into launch script\n",
    "- replace **NEW_PORT_NUMBER** with the portnumber generated from port4me (above)\n",
    "    - sed command searches and replaces PORT=00000 with your portnumber, writes to the file 't'\n",
    "    - then, we rename 't' as the new launch_nb.sh file"
   ]
  },
  {
   "cell_type": "code",
   "execution_count": null,
   "id": "03699bb2-d4da-44a9-af7e-f104ba43fa19",
   "metadata": {},
   "outputs": [],
   "source": [
    "\n",
    "\n",
    "# on dev2.wynton.ucsf.edu\n",
    "\n",
    "sed 's/PORT=00000/PORT=**NEW_PORT_NUMBER**/' $HOME/launch_nb.sh > t && mv t  $HOME/launch_nb.sh\n",
    "\n"
   ]
  },
  {
   "cell_type": "markdown",
   "id": "8e9f7661",
   "metadata": {},
   "source": [
    "# Tunneling to wynton"
   ]
  },
  {
   "cell_type": "markdown",
   "id": "6c920525",
   "metadata": {
    "ExecuteTime": {
     "end_time": "2023-06-22T21:51:23.664844Z",
     "start_time": "2023-06-22T21:51:23.660137Z"
    }
   },
   "source": [
    "## After setup, use this everytime you want to tunnel to wynton\n",
    "\n",
    "- step 1: logon wynton\n",
    "- step 2: launch jupyter notebook job with qsub command\n",
    "- step 3: get tunnel ssh command\n",
    "- step 4: in local terminal, tunnel to job.\n",
    "- step 5: start session in local browser"
   ]
  },
  {
   "cell_type": "markdown",
   "id": "24141dbb-2b16-48ed-abbc-6d818ddacbe6",
   "metadata": {},
   "source": [
    "## Step 1: login to wynton"
   ]
  },
  {
   "cell_type": "code",
   "execution_count": null,
   "id": "2d77283b-48cd-4ca0-99cd-3f06de442794",
   "metadata": {},
   "outputs": [],
   "source": [
    "\n",
    "\n",
    "# on local terminal\n",
    "ssh dev2.wynton.ucsf.edu\n",
    "\n"
   ]
  },
  {
   "cell_type": "markdown",
   "id": "5e0001f7-a7bb-4006-9388-bed7c4d61576",
   "metadata": {},
   "source": [
    "## Step 2: Submit job\n",
    "- step 2.1: submit job\n",
    "- step 2.2: check on job state to see that it is running\n",
    "- step 2.3: set jobnumber bash variable"
   ]
  },
  {
   "cell_type": "code",
   "execution_count": null,
   "id": "cdcfefc5-6cdc-48f5-b294-90698e30438b",
   "metadata": {},
   "outputs": [],
   "source": [
    "\n",
    "\n",
    "# step 2.1: on dev2.wynton.ucsf.edu\n",
    "\n",
    "qsub launch_nb.sh\n",
    "\n",
    "# Your job 9994008 (\"launch_nb.sh\") has been submitted\n",
    "# remember the qsub job number (e.g. 9994008). You will need this for the next step!\n",
    "\n"
   ]
  },
  {
   "cell_type": "code",
   "execution_count": null,
   "id": "4345c880-fea3-45fc-9a1c-ad1c1dbb6065",
   "metadata": {},
   "outputs": [],
   "source": [
    "\n",
    "\n",
    "# step 2.2: check job status\n",
    "\n",
    "qstat\n",
    "\n",
    "## when state is 'r' the job is running\n",
    "## when state is \"qw\" wait a little longer for state to run, 'r'\n",
    "\n"
   ]
  },
  {
   "cell_type": "code",
   "execution_count": null,
   "id": "cb18bf16-71df-45a1-81c1-34b16d3d8606",
   "metadata": {},
   "outputs": [],
   "source": [
    "\n",
    "\n",
    "# step 2.3 set job number bash variable (e.g.  qsub job number was 9994008)\n",
    "\n",
    "jobnumber=9994008  \n",
    "\n",
    "# CHANGE 9994008 to your job number!\n",
    "\n"
   ]
  },
  {
   "cell_type": "markdown",
   "id": "5804915b-ac49-4396-9ea0-9ab269ac73b9",
   "metadata": {},
   "source": [
    "## Step 3: get tunnel ssh from the session_output.txt\n",
    "\n",
    "- head the job session"
   ]
  },
  {
   "cell_type": "code",
   "execution_count": null,
   "id": "815502f1-6cfe-4911-8750-d5a451b70e88",
   "metadata": {},
   "outputs": [],
   "source": [
    "\n",
    "\n",
    "head $jobnumber_jupyter_session.output.txt\n",
    "\n"
   ]
  },
  {
   "cell_type": "markdown",
   "id": "2f632d67-04f5-4938-b6a4-5d9a112598b1",
   "metadata": {},
   "source": [
    "- read head, copy the command that starts with **\"ssh -L 9999:msg-id6.wynton.ucsf.edu:16171 USERNAME@log1.wynton.ucsf.edu \"**\n"
   ]
  },
  {
   "cell_type": "code",
   "execution_count": null,
   "id": "46025ce9-95f2-4586-a072-e814cc009703",
   "metadata": {},
   "outputs": [],
   "source": [
    "\"\"\" e.g.\n",
    "To open a tunnel from local machine,\n",
    "Execute in a new terminal window:\n",
    "ssh -L 9999:msg-id6.wynton.ucsf.edu:16171 fongsl@log1.wynton.ucsf.edu   ### COPY THE LINE THAT LOOKS LIKE THIS ###\n",
    "================================================================================\n",
    "\"\"\""
   ]
  },
  {
   "cell_type": "markdown",
   "id": "62e58a17",
   "metadata": {},
   "source": [
    "## Step 4: tunnel to wynton session\n",
    "- Step 4.1: Open up new terminal window on local computer\n",
    "- Step 4.2: paste ssh -L command (from step 3), login to wynton. \n"
   ]
  },
  {
   "cell_type": "code",
   "execution_count": null,
   "id": "b969a169",
   "metadata": {},
   "outputs": [],
   "source": [
    "\n",
    "\n",
    "# step 4.1: open a new local terminal (NOT WYNTON)\n",
    "\n",
    "# step 4.2: run the command from the head step above\n",
    "\n",
    "ssh -L 9999:msg-id6.wynton.ucsf.edu:16171 fongsl@log1.wynton.ucsf.edu\n",
    "\n"
   ]
  },
  {
   "cell_type": "markdown",
   "id": "9cbeb722",
   "metadata": {},
   "source": [
    "## Step 5: open web browser\n",
    "- can be chrome, safari, firefox, internet explorer, etc. \n",
    "- go to web address: http://localhost:9999"
   ]
  },
  {
   "cell_type": "markdown",
   "id": "8e20e335",
   "metadata": {
    "ExecuteTime": {
     "end_time": "2023-06-22T21:55:20.760024Z",
     "start_time": "2023-06-22T21:55:20.752351Z"
    }
   },
   "source": [
    "Remember **both your password and passphrase**\n",
    "\n",
    "And you did it!"
   ]
  },
  {
   "cell_type": "markdown",
   "id": "b048dd4f-cd75-40c2-8d90-f70d06445752",
   "metadata": {},
   "source": [
    "# Extra: Jupyter notebook kernels\n",
    "- when you want to run jupyter notebook in a specific environment. "
   ]
  },
  {
   "cell_type": "code",
   "execution_count": null,
   "id": "87658f8a-d45b-4e03-892a-21f1bd39a2bc",
   "metadata": {},
   "outputs": [],
   "source": [
    "\n",
    "\n",
    "# login to wynton\n",
    "ssh dev2.wynton.ucsf.edu\n",
    "\n",
    "# activate your environment\n",
    "micromamba active myenv\n",
    "\n",
    "# add your environment as an ipython kernel\n",
    "python -m ipykernel install --user --name myenv --display-name \"myenv\"\n",
    "\n"
   ]
  },
  {
   "cell_type": "markdown",
   "id": "21669dea-01c9-4f41-8cd9-f4a94217bc7e",
   "metadata": {},
   "source": [
    "- tunnel to jupyter notebooks \n",
    "- open a new notebook\n",
    "- under the 'kernel' tab select \"change kernel\" and select \"myenv\""
   ]
  },
  {
   "cell_type": "markdown",
   "id": "9b42800d-1a91-48a4-81a4-44f895781859",
   "metadata": {},
   "source": [
    "that's it. You can now run Jupyter notebooks using your brand new virtual environment!"
   ]
  }
 ],
 "metadata": {
  "kernelspec": {
   "display_name": "Python (mamba)",
   "language": "python",
   "name": "mamba"
  },
  "language_info": {
   "codemirror_mode": {
    "name": "ipython",
    "version": 3
   },
   "file_extension": ".py",
   "mimetype": "text/x-python",
   "name": "python",
   "nbconvert_exporter": "python",
   "pygments_lexer": "ipython3",
   "version": "3.9.16"
  },
  "toc": {
   "base_numbering": 1,
   "nav_menu": {},
   "number_sections": true,
   "sideBar": true,
   "skip_h1_title": false,
   "title_cell": "Table of Contents",
   "title_sidebar": "Contents",
   "toc_cell": false,
   "toc_position": {},
   "toc_section_display": true,
   "toc_window_display": false
  },
  "varInspector": {
   "cols": {
    "lenName": 16,
    "lenType": 16,
    "lenVar": 40
   },
   "kernels_config": {
    "python": {
     "delete_cmd_postfix": "",
     "delete_cmd_prefix": "del ",
     "library": "var_list.py",
     "varRefreshCmd": "print(var_dic_list())"
    },
    "r": {
     "delete_cmd_postfix": ") ",
     "delete_cmd_prefix": "rm(",
     "library": "var_list.r",
     "varRefreshCmd": "cat(var_dic_list()) "
    }
   },
   "types_to_exclude": [
    "module",
    "function",
    "builtin_function_or_method",
    "instance",
    "_Feature"
   ],
   "window_display": false
  }
 },
 "nbformat": 4,
 "nbformat_minor": 5
}
