{
 "cells": [
  {
   "cell_type": "markdown",
   "id": "0d35264d",
   "metadata": {},
   "source": [
    "# fonts"
   ]
  },
  {
   "cell_type": "code",
   "execution_count": null,
   "id": "a1380811",
   "metadata": {},
   "outputs": [],
   "source": [
    "fm._rebuild()\n",
    "\n",
    "import matplotlib.font_manager as fm\n",
    "font_dirs = [\"/dors/capra_lab/users/fongsl/\", \"/home/fongsl/.conda/envs/sfenv/fonts/open-fonts\"]\n",
    "font_files = fm.findSystemFonts(fontpaths=font_dirs)\n",
    "\n",
    "for font_file in font_files:\n",
    "    print(font_file)\n",
    "    fm.fontManager.addfont(font_file)\n",
    "font_names = [f.name for f in fm.fontManager.ttflist]\n",
    "print(font_names)\n",
    "plt.rcParams['font.family'] = 'Arial Unicode MS'\n",
    "\n",
    "### test different fonts\n",
    "\n",
    "Usure = False\n",
    "if Usure is True:\n",
    "    done = []\n",
    "    for f in font_names:\n",
    "        if f not in done:\n",
    "            print(f)\n",
    "            mpl.rcParams['font.family'] = f\n",
    "            x = 1\n",
    "            plt.bar(x, height = 1)\n",
    "            plt.xlabel(f\"{f}\")\n",
    "            plt.title(f\"{f}\")\n",
    "            plt.ylabel(\"does it look okay?\")\n",
    "            plt.show()\n",
    "            done.append(f)"
   ]
  },
  {
   "cell_type": "markdown",
   "id": "c036ae4f",
   "metadata": {},
   "source": [
    "## more fonts "
   ]
  },
  {
   "cell_type": "code",
   "execution_count": null,
   "id": "6ade9a96",
   "metadata": {},
   "outputs": [],
   "source": [
    "%%bash \n",
    "rm ~/.cache/matplotlib -rf"
   ]
  },
  {
   "cell_type": "code",
   "execution_count": null,
   "id": "42bac029",
   "metadata": {},
   "outputs": [],
   "source": [
    "import matplotlib\n",
    "matplotlib.rcParams['font.family'] = \"sans-serif\"\n",
    "matplotlib.rcParams['font.sans-serif'] = \"Arial\"\n",
    "matplotlib.rcParams['font.size'] = 18"
   ]
  },
  {
   "cell_type": "markdown",
   "id": "c8f1d9e5",
   "metadata": {},
   "source": [
    "# Un-logging Y tick labels "
   ]
  },
  {
   "cell_type": "code",
   "execution_count": null,
   "id": "b861f6ba",
   "metadata": {},
   "outputs": [],
   "source": [
    "from matplotlib.ticker import MultipleLocator\n",
    "import matplotlib.ticker as ticker\n",
    "\n",
    "ticks = ticker.FuncFormatter(lambda x, pos: '{0:g}'.format(2**x))\n",
    "ax.yaxis.set_major_formatter(ticks)\n",
    "ax.yaxis.set_major_locator(MultipleLocator(1))"
   ]
  },
  {
   "cell_type": "markdown",
   "id": "50010577",
   "metadata": {},
   "source": [
    "# custom plot values "
   ]
  },
  {
   "cell_type": "code",
   "execution_count": null,
   "id": "92445e43",
   "metadata": {},
   "outputs": [],
   "source": [
    "\n",
    "custom_params = {\"axes.spines.right\": False, \"axes.spines.top\": False, \"font.size\":16}\n",
    "sns.set_theme(style=\"white\", font=\"Roboto\", rc=custom_params, font_scale = 1.2)\n",
    "\n"
   ]
  }
 ],
 "metadata": {
  "kernelspec": {
   "display_name": "Python (sfenv)",
   "language": "python",
   "name": "sfenv"
  },
  "language_info": {
   "codemirror_mode": {
    "name": "ipython",
    "version": 3
   },
   "file_extension": ".py",
   "mimetype": "text/x-python",
   "name": "python",
   "nbconvert_exporter": "python",
   "pygments_lexer": "ipython3",
   "version": "3.6.6"
  },
  "toc": {
   "base_numbering": 1,
   "nav_menu": {},
   "number_sections": true,
   "sideBar": true,
   "skip_h1_title": false,
   "title_cell": "Table of Contents",
   "title_sidebar": "Contents",
   "toc_cell": false,
   "toc_position": {},
   "toc_section_display": true,
   "toc_window_display": false
  }
 },
 "nbformat": 4,
 "nbformat_minor": 5
}
