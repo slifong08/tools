{
 "cells": [
  {
   "cell_type": "code",
   "execution_count": 2,
   "id": "bcb5b07d",
   "metadata": {
    "ExecuteTime": {
     "end_time": "2022-04-14T06:39:57.031321Z",
     "start_time": "2022-04-14T06:39:57.001777Z"
    }
   },
   "outputs": [
    {
     "data": {
      "text/plain": [
       "'\\nOutput: .tsv with sequence id,  GC count, and GC density\\n\\nInput: .bed file\\n\\nNotes\\n- turns .bed -> .fa, then evaluates GC\\n- human DNA only\\n- writes .fa file to same directory as .bed file\\n'"
      ]
     },
     "execution_count": 2,
     "metadata": {},
     "output_type": "execute_result"
    }
   ],
   "source": [
    "import argparse\n",
    "from collections import Counter\n",
    "import glob\n",
    "import os, sys\n",
    "\n",
    "\"\"\"\n",
    "Output: .tsv with sequence id,  GC count, and GC density\n",
    "\n",
    "Input: .bed file\n",
    "\n",
    "Notes\n",
    "- turns .bed -> .fa, then evaluates GC\n",
    "- human DNA only\n",
    "- writes .fa file to same directory as .bed file\n",
    "\"\"\""
   ]
  },
  {
   "cell_type": "code",
   "execution_count": 3,
   "id": "6145a652",
   "metadata": {
    "ExecuteTime": {
     "end_time": "2022-04-14T06:39:57.493637Z",
     "start_time": "2022-04-14T06:39:57.474142Z"
    }
   },
   "outputs": [
    {
     "name": "stderr",
     "output_type": "stream",
     "text": [
      "usage: ipykernel_launcher.py [-h] [-i BED] [-b {hg19,hg38}] [-o {hg19,hg38}]\n",
      "ipykernel_launcher.py: error: unrecognized arguments: -f /data1/home/fongsl/.local/share/jupyter/runtime/kernel-ace6ab17-c732-44d5-b049-d340633c5778.json\n"
     ]
    },
    {
     "ename": "SystemExit",
     "evalue": "2",
     "output_type": "error",
     "traceback": [
      "An exception has occurred, use %tb to see the full traceback.\n",
      "\u001b[0;31mSystemExit\u001b[0m\u001b[0;31m:\u001b[0m 2\n"
     ]
    },
    {
     "name": "stderr",
     "output_type": "stream",
     "text": [
      "/home/fongsl/.conda/envs/sfenv/lib/python3.6/site-packages/IPython/core/interactiveshell.py:3351: UserWarning: To exit: use 'exit', 'quit', or Ctrl-D.\n",
      "  warn(\"To exit: use 'exit', 'quit', or Ctrl-D.\", stacklevel=1)\n"
     ]
    }
   ],
   "source": [
    "###\n",
    "#   arguments\n",
    "###\n",
    "\n",
    "arg_parser = argparse.ArgumentParser(description=\"turn .bed into .fa, chromosome by chromosome, get GC content\")\n",
    "\n",
    "arg_parser.add_argument(\"-i\", \"--bed\", help='.bed file w/ full path')\n",
    "arg_parser.add_argument(\"-b\", \"--build\", type=str, default='hg19', choices=['hg19', 'hg38'],\n",
    "                        help='human genome assembly; default=hg19')\n",
    "arg_parser.add_argument(\"-o\", \"--outdirectory\", type=str, default='hg19', choices=['hg19', 'hg38'],\n",
    "                        help='directory to dump gc information')\n",
    "\n",
    "\n",
    "\n",
    "\n",
    "args = arg_parser.parse_args()\n",
    "\n",
    "TEST_BED = args.bed\n",
    "BUILD = args.build\n",
    "OUTDIR = args.outdirectory\n",
    "\n"
   ]
  },
  {
   "cell_type": "code",
   "execution_count": 4,
   "id": "ae06e520",
   "metadata": {
    "ExecuteTime": {
     "end_time": "2022-04-14T06:39:58.344186Z",
     "start_time": "2022-04-14T06:39:58.338597Z"
    }
   },
   "outputs": [],
   "source": [
    "TEST_BED = \"/dors/capra_lab/users/fongsl/tools/unit_test/test.bed\"\n",
    "BUILD = \"hg38\"\n",
    "OUTDIR = \"/dors/capra_lab/users/fongsl/tools/unit_test/out\""
   ]
  },
  {
   "cell_type": "code",
   "execution_count": 7,
   "id": "ad36932f",
   "metadata": {
    "ExecuteTime": {
     "end_time": "2022-04-14T06:40:37.388620Z",
     "start_time": "2022-04-14T06:40:36.829305Z"
    }
   },
   "outputs": [
    {
     "name": "stdout",
     "output_type": "stream",
     "text": [
      "/dors/capra_lab/users/fongsl/tools/unit_test/test.fa\n",
      "/dors/capra_lab/users/fongsl/tools/unit_test/test_GC.tsv\n"
     ]
    }
   ],
   "source": [
    "### \n",
    "# Functions\n",
    "### \n",
    "\n",
    "def get_path_filename_sample_id(test_bed):\n",
    "    \n",
    "    test_path, filename = os.path.split(test_bed)\n",
    "    \n",
    "    sample_id = os.path.splitext(filename)[0]\n",
    "\n",
    "    return test_path, filename, sample_id\n",
    "    \n",
    "    \n",
    "def split_by_chr(test_bed, outdir):\n",
    "        \n",
    "        test_path, filename, sample_id = get_path_filename_sample_id(test_bed)\n",
    "        \n",
    "        # go to bed dir\n",
    "        os.chdir(outdir)\n",
    "        \n",
    "        # split test into chrN.bed files\n",
    "        chr_cmd = \"awk '{print >$1\\\"_%s_temp.bed\\\"}' %s\" % (sample_id, test_bed) \n",
    "        os.system(chr_cmd)\n",
    "    \n",
    "        # glob chr split bed files. \n",
    "        bed_chr_list = glob.glob(os.path.join(outdir, f\"chr*_{sample_id}_temp.bed\"))  # glob chromosomes\n",
    "        \n",
    "        return bed_chr_list\n",
    "    \n",
    "    \n",
    "def get_dna(genome_build):\n",
    "    \n",
    "    dna_path = f\"/dors/capra_lab/data/dna/human/{genome_build}\"\n",
    "    \n",
    "    return dna_path\n",
    "\n",
    "\n",
    "def getfasta(bed_chr_list, test_bed, genome_build):\n",
    "\n",
    "    test_path, filename, sample_id = get_path_filename_sample_id(test_bed)\n",
    "    \n",
    "    # file to write\n",
    "    out_fasta = os.path.join(test_path, f\"{sample_id}.fa\")\n",
    "\n",
    "\n",
    "    # intersect test chrN.bed w/ fasta. \n",
    "    for bed_chr in bed_chr_list: \n",
    "\n",
    "        chr_num = os.path.basename(bed_chr).split(\"_\")[0]\n",
    "\n",
    "        # path to input DNA fasta files \n",
    "        dna_path = get_dna(genome_build)\n",
    "\n",
    "        fasta_in = os.path.join(dna_path, f\"{genome_build}.fasta\")\n",
    "        fasta_out = os.path.join(test_path, f\"{sample_id}_{chr_num}.fa\")\n",
    "\n",
    "        cmd = f\"bedtools getfasta -fi {fasta_in} -bed {bed_chr} -fo {fasta_out}\"\n",
    "        #print(cmd)\n",
    "        os.system(cmd)\n",
    "\n",
    "        # clean up chr temp file\n",
    "        os.remove(bed_chr)\n",
    "\n",
    "    # concat all the chromosomes\n",
    "    cat_handle = os.path.join(test_path, f\"{sample_id}_chr*.fa\")\n",
    "    cat_cmd = f\"cat {cat_handle} > {out_fasta}\"\n",
    "    os.system(cat_cmd)\n",
    "\n",
    "    # remove chromosome fasta files. \n",
    "    cleanup_cmd = f\"rm {cat_handle}\"\n",
    "    os.system(cleanup_cmd)\n",
    "\n",
    "    return out_fasta\n",
    "\n",
    "### \n",
    "# GC Functions\n",
    "### \n",
    "\n",
    "def countgc(sequence):\n",
    "    gc = []\n",
    "    total = []\n",
    "    letters = [\"G\", \"C\", \"g\", \"c\"]\n",
    "    counts = Counter(sequence)\n",
    "\n",
    "    for letter in letters:\n",
    "        gc.append(int(counts[letter]))  # count all the Gs and all the Cs\n",
    "\n",
    "    gc_sum = sum(gc)\n",
    "    gc_density = gc_sum/len(sequence) \n",
    "    \n",
    "    return gc_sum, gc_density\n",
    "\n",
    "\n",
    "def writerow(outf, rows):\n",
    "     with open(outf, \"w\") as writer:\n",
    "        for row in rows:\n",
    "            writer.write(row)\n",
    "        writer.close()\n",
    "        \n",
    "        \n",
    "def format_fa(fasta_file):\n",
    "    \n",
    "    path, filename= os.path.split(TEST_BED)\n",
    "    split = os.path.splitext(filename)[0]\n",
    "\n",
    "    outf = os.path.join(path, f\"{split}_GC.tsv\" ) # path to write\n",
    "    print(outf)\n",
    "    already_processed = []\n",
    "    \n",
    "    with open(fasta_file, \"r\") as ff:\n",
    "    \n",
    "        fasta = ff.readlines()\n",
    "\n",
    "        new_line = []  # for writing new line\n",
    "        rows = []\n",
    "        \n",
    "        for n, line in enumerate(fasta):\n",
    "            #print(line)\n",
    "            \n",
    "            if \">\" in line:  # this is a new sequence\n",
    "                seq_id = (line.split(\">\")[1]).strip(\"\\n\")\n",
    "                \n",
    "            elif line == \"\":\n",
    "                seq_id = None\n",
    "                continue\n",
    "            else:  # this is the sequence\n",
    "                sequence = line\n",
    "                \n",
    "                gc_count, gc_density = countgc(sequence) # count GC content, density for sequence\n",
    "\n",
    "                row = f\"{seq_id}\\t{gc_count}\\t{gc_density}\\n\"\n",
    "                \n",
    "                if seq_id not in already_processed:\n",
    "                    \n",
    "                    # append seq id to already_processed list\n",
    "                    already_processed.append(seq_id) \n",
    "                    \n",
    "                    # append row\n",
    "                    rows.append(row)\n",
    "                else:\n",
    "                    print(f\"\\nCHECK .FA REDUNDANCY. Seq_id {seq_id} is already in dictionary.\\n\")\n",
    "                    \n",
    "\n",
    "        writerow(outf, rows)\n",
    "                   \n",
    "    return outf\n",
    "\n",
    "def main(argv):\n",
    "                          \n",
    "    # split bed file by chromosome\n",
    "    # turn bed into fasta using bedtools getfasta command\n",
    "    bed_chr_list = split_by_chr(TEST_BED, OUTDIR)\n",
    "    \n",
    "    FASTA = getfasta(bed_chr_list, TEST_BED, BUILD)\n",
    "   \n",
    "    print(FASTA)\n",
    "    \n",
    "    out_fasta = format_fa(FASTA)\n",
    "    \n",
    "    \n",
    "if __name__ == \"__main__\":\n",
    "    main(sys.argv[1:])\n",
    "        "
   ]
  },
  {
   "cell_type": "code",
   "execution_count": 43,
   "id": "2f12291f",
   "metadata": {
    "ExecuteTime": {
     "end_time": "2022-04-13T22:30:47.769912Z",
     "start_time": "2022-04-13T22:30:47.757452Z"
    }
   },
   "outputs": [
    {
     "data": {
      "text/plain": [
       "('/dors/capra_lab/users/fongsl/tools/unit_test', 'test.bed', 'test')"
      ]
     },
     "execution_count": 43,
     "metadata": {},
     "output_type": "execute_result"
    }
   ],
   "source": [
    "\n",
    "path, filename= os.path.split(TEST_BED)\n",
    "split = os.path.splitext(filename)[0]\n",
    "path, filename, split"
   ]
  },
  {
   "cell_type": "code",
   "execution_count": null,
   "id": "6424287e",
   "metadata": {},
   "outputs": [],
   "source": []
  }
 ],
 "metadata": {
  "kernelspec": {
   "display_name": "Python (sfenv)",
   "language": "python",
   "name": "sfenv"
  },
  "language_info": {
   "codemirror_mode": {
    "name": "ipython",
    "version": 3
   },
   "file_extension": ".py",
   "mimetype": "text/x-python",
   "name": "python",
   "nbconvert_exporter": "python",
   "pygments_lexer": "ipython3",
   "version": "3.6.5"
  },
  "toc": {
   "base_numbering": 1,
   "nav_menu": {},
   "number_sections": true,
   "sideBar": true,
   "skip_h1_title": false,
   "title_cell": "Table of Contents",
   "title_sidebar": "Contents",
   "toc_cell": false,
   "toc_position": {},
   "toc_section_display": true,
   "toc_window_display": false
  }
 },
 "nbformat": 4,
 "nbformat_minor": 5
}
