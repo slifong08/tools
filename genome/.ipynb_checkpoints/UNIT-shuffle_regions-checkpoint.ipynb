{
 "cells": [
  {
   "cell_type": "code",
   "execution_count": 3,
   "id": "c85924cf",
   "metadata": {},
   "outputs": [],
   "source": [
    "#!/usr/bin/env python\n",
    "# coding: utf-8\n",
    "\n",
    "\n",
    "import argparse\n",
    "from joblib import Parallel, delayed\n",
    "import numpy as np\n",
    "import os\n",
    "import sys\n",
    "\n",
    "sys.path.append(\"/wynton/home/ahituv/fongsl/tools/py_/\")\n",
    "sys.path.append(\"/wynton/home/ahituv/fongsl/tools/genome/\")\n",
    "\n",
    "import chr_functions\n",
    "import split_filename"
   ]
  },
  {
   "cell_type": "code",
   "execution_count": null,
   "id": "f0ef59cf",
   "metadata": {},
   "outputs": [],
   "source": [
    "\"\"\"\n",
    "Output: N iterations of shuffled.bed with length-matched shuffled regions, chromosome-matched, non-overlapping, including regions specificed from incl arg\n",
    "\n",
    "Input: .bed file, n shuffle iterations, genome build, background, sharedAcc, 50bp =< 0000 regions to include as the shuffle\n",
    "\n",
    "Functions: \n",
    "- bedtools shuffle. \n",
    "\n",
    "Notes\n",
    "- length match\n",
    "- chromosome match\n",
    "- include = only shuffle regions inside the included file. \n",
    "\n",
    "\n",
    "\"\"\"\n",
    "\n",
    "###\n",
    "#   arguments\n",
    "###\n",
    "\n",
    "arg_parser = argparse.ArgumentParser(description= \"compute sequence identity between two species\")\n",
    "\n",
    "arg_parser.add_argument(\"-b\",\"--bedfile\", help='.bed file in species 1 coordinates')\n",
    "arg_parser.add_argument(\"-i\",\"--iters\", type=int, help='number of shuffles')\n",
    "arg_parser.add_argument(\"-g\",\"--genome_build\", help='genome_build')\n",
    "arg_parser.add_argument(\"-incl\",\"--include\", help='regions to include in shuffle')\n",
    "arg_parser.add_argument(\"-o\",\"--outdir\", help='directory for files')\n",
    "\n",
    "args = arg_parser.parse_args()\n",
    "\n",
    "TEST_BED = args.bedfile\n",
    "ITERS = args.iters\n",
    "BUILD = args.genome_build\n",
    "INCLUDE = args.include\n",
    "SHUF_PATH = args.outdir"
   ]
  },
  {
   "cell_type": "code",
   "execution_count": 1,
   "id": "6770260a",
   "metadata": {},
   "outputs": [],
   "source": [
    "TEST_BED = \"/wynton/home/ahituv/fongsl/nullomers/data/mutations_uniq_lociGENCODE-EXON_overlap.bed\"\n",
    "ITERS = 2\n",
    "BUILD = \"hg38\"\n",
    "INCLUDE = \"/wynton/home/ahituv/fongsl/nullomers/data/Gencode/gencode.v42.basic.annotation-exons_merged.bed\"\n",
    "SHUF_PATH = \"/wynton/home/ahituv/fongsl/nullomers/data/shuffle\""
   ]
  },
  {
   "cell_type": "code",
   "execution_count": 4,
   "id": "9eafa9c5",
   "metadata": {},
   "outputs": [],
   "source": [
    "PATH, FILENAME, SAMPLE_ID = split_filename.split_filename(TEST_BED) \n",
    "\n",
    "\n",
    "###\n",
    "#   functions\n",
    "###\n",
    "\n",
    "\n",
    "def loadConstants(build):  \n",
    "    path_dict = {\n",
    "                'hg19': (\"/wynton/home/ahituv/fongsl/dna/black_list/hg19-blacklist.v2.bed\", \"/wynton/home/ahituv/fongsl/dna/hg19/hg19.chrom.sizes\"),\n",
    "                'hg38': (\"/wynton/home/ahituv/fongsl/dna/black_list/hg38-blacklist.v2.gencode.v42.bed\", \"/wynton/home/ahituv/fongsl/dna/hg38/hg38.chrom.sizes\"),\n",
    "\n",
    "\n",
    "                    }\n",
    "    blacklist, sizes = path_dict[build]\n",
    "    \n",
    "    return blacklist, sizes"
   ]
  },
  {
   "cell_type": "code",
   "execution_count": 7,
   "id": "16bbc2e7",
   "metadata": {},
   "outputs": [],
   "source": [
    "def shuffle(test_bed, shuf_path, sample_id, iter_, build, include):\n",
    "    \n",
    "    out=os.path.join(shuf_path, f\"shuf={sample_id}-{iter_}.bed\")\n",
    "    \n",
    "    #out=os.path.join(shuf_path, \"test.bed\")\n",
    "    \n",
    "    BLACKLIST, CHROM_SZ = loadConstants(build)\n",
    "    if include is not None:\n",
    "        BEDshuf = f\"bedtools shuffle -i {test_bed} -g {CHROM_SZ} -noOverlapping -maxTries 5000 -incl {include} > {out}\"\n",
    "\n",
    "\n",
    "    else:\n",
    "        BEDshuf = f\"bedtools shuffle -i {test_bed} -g {CHROM_SZ} -excl {BLACKLIST} -chrom -noOverlapping -maxTries 5000 > {out}\" \n",
    "\n",
    "    print(BEDshuf)\n",
    "    \n",
    "    os.system(BEDshuf)"
   ]
  },
  {
   "cell_type": "code",
   "execution_count": null,
   "id": "0adbbac5",
   "metadata": {},
   "outputs": [
    {
     "name": "stdout",
     "output_type": "stream",
     "text": [
      "number of cores 1 number of iters 2\n",
      "[Parallel(n_jobs=1)]: Using backend SequentialBackend with 1 concurrent workers.\n",
      "bedtools shuffle -i /wynton/home/ahituv/fongsl/nullomers/data/mutations_uniq_lociGENCODE-EXON_overlap.bed -g /wynton/home/ahituv/fongsl/dna/hg38/hg38.chrom.sizes -noOverlapping -maxTries 5000 -incl /wynton/home/ahituv/fongsl/nullomers/data/Gencode/gencode.v42.basic.annotation-exons_merged.bed > /wynton/home/ahituv/fongsl/nullomers/data/shuffle/shuf=mutations_uniq_lociGENCODE-EXON_overlap-0.bed\n"
     ]
    }
   ],
   "source": [
    "###\n",
    "#   Main\n",
    "###\n",
    "\n",
    "\n",
    "def main(argv):\n",
    "    \n",
    "    #num_cores = multiprocessing.cpu_count()\n",
    "    num_cores = 1\n",
    "    print(\"number of cores\", num_cores, \"number of iters\", ITERS)\n",
    "\n",
    "    # run parallel jobs\n",
    "\n",
    "    Parallel(n_jobs=num_cores, verbose=100, prefer=\"threads\")(delayed(shuffle)(TEST_BED, SHUF_PATH, SAMPLE_ID, i, BUILD, INCLUDE) for i in range(int(ITERS)))\n",
    "\n",
    "\n",
    "    #shuffle(TEST_BED, SHUF_PATH, SAMPLE_ID, ITERS, BUILD, INCLUDE)\n",
    "    \n",
    "if __name__ == \"__main__\":\n",
    "    main(sys.argv[1:])"
   ]
  },
  {
   "cell_type": "code",
   "execution_count": null,
   "id": "e0279026",
   "metadata": {},
   "outputs": [],
   "source": []
  }
 ],
 "metadata": {
  "kernelspec": {
   "display_name": "Python (wynenv)",
   "language": "python",
   "name": "wynenv"
  },
  "language_info": {
   "codemirror_mode": {
    "name": "ipython",
    "version": 3
   },
   "file_extension": ".py",
   "mimetype": "text/x-python",
   "name": "python",
   "nbconvert_exporter": "python",
   "pygments_lexer": "ipython3",
   "version": "3.10.8"
  },
  "toc": {
   "base_numbering": 1,
   "nav_menu": {},
   "number_sections": true,
   "sideBar": true,
   "skip_h1_title": false,
   "title_cell": "Table of Contents",
   "title_sidebar": "Contents",
   "toc_cell": false,
   "toc_position": {},
   "toc_section_display": true,
   "toc_window_display": false
  }
 },
 "nbformat": 4,
 "nbformat_minor": 5
}
