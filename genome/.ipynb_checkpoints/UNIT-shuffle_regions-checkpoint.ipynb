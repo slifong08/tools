{
 "cells": [
  {
   "cell_type": "code",
   "execution_count": 1,
   "id": "675c4c00",
   "metadata": {
    "ExecuteTime": {
     "end_time": "2022-04-14T05:15:38.752038Z",
     "start_time": "2022-04-14T05:15:38.541773Z"
    }
   },
   "outputs": [],
   "source": [
    "#!/usr/bin/env python\n",
    "# coding: utf-8\n",
    "\n",
    "\n",
    "import argparse\n",
    "from joblib import Parallel, delayed\n",
    "import numpy as np\n",
    "import os\n",
    "import sys\n",
    "\n",
    "sys.path.append(\"/dors/capra_lab/users/fongsl/tools/py_/\")\n",
    "sys.path.append(\"/dors/capra_lab/users/fongsl/tools/genome/\")\n",
    "\n",
    "import config_readwrite as crw\n",
    "import chr_functions\n",
    "import split_filename"
   ]
  },
  {
   "cell_type": "code",
   "execution_count": null,
   "id": "5aff7aad",
   "metadata": {
    "scrolled": true
   },
   "outputs": [],
   "source": [
    "\"\"\"\n",
    "Output: .tsv with sequence id,  GC count, and GC density\n",
    "\n",
    "Input: .bed file.\n",
    "\n",
    "Functions: \n",
    "- bedtools shuffle. \n",
    "\n",
    "Notes\n",
    "- length match\n",
    "- chromosome match\n",
    "\n",
    "\n",
    "\"\"\"\n",
    "\n",
    "###\n",
    "#   arguments\n",
    "###\n",
    "\n",
    "arg_parser = argparse.ArgumentParser(description= \"compute sequence identity between two species\")\n",
    "\n",
    "arg_parser.add_argument(\"b\",\"--bedfile\", help='.bed file in species 1 coordinates')\n",
    "arg_parser.add_argument(\"i\",\"--iters\", help='number of shuffles')\n",
    "arg_parser.add_argument(\"g\",\"--genome_build\", help='genome_build')\n",
    "arg_parser.add_argument(\"inc\",\"--include\", help='regions to include in shuffle')\n",
    "\n",
    "\n",
    "args = arg_parser.parse_args()\n",
    "\n",
    "TEST_BED = args.bedfile\n",
    "ITERS = args.iters\n",
    "BUILD = args.genome_build\n",
    "INCLUDE = args.include"
   ]
  },
  {
   "cell_type": "code",
   "execution_count": 29,
   "id": "0577c1a8",
   "metadata": {
    "ExecuteTime": {
     "end_time": "2022-04-14T05:44:02.298104Z",
     "start_time": "2022-04-14T05:44:02.292050Z"
    }
   },
   "outputs": [],
   "source": [
    "TEST_BED = \"/data/hodges_lab/ATAC-STARR_B-cells/results/results_human-evolution/global_cis_trans/cis+trans-defined_regions/cis_HH-vs-MH.regions.bed\"\n",
    "ITERS = 0\n",
    "BUILD = \"hg38\"\n",
    "INCLUDE = \"/data/hodges_lab/ATAC-STARR_B-cells/data/hansen-fong/bkgd_sharedAcc_regions/code-0000_merged.bed\""
   ]
  },
  {
   "cell_type": "code",
   "execution_count": null,
   "id": "7993b895",
   "metadata": {
    "ExecuteTime": {
     "end_time": "2022-04-14T05:47:09.179889Z",
     "start_time": "2022-04-14T05:47:09.160296Z"
    }
   },
   "outputs": [],
   "source": [
    "PATH, FILENAME, SAMPLE_ID = split_filename.split_filename(TEST_BED) \n",
    "SHUF_PATH = \"/data/hodges_lab/ATAC-STARR_B-cells/data/hansen-fong/bkgd_sharedAcc_regions\"\n",
    "\n",
    "if os.path.exists(SHUF_PATH) is False:\n",
    "    os.mkdir(SHUF_PATH)"
   ]
  },
  {
   "cell_type": "code",
   "execution_count": 43,
   "id": "4ef22fa1",
   "metadata": {
    "ExecuteTime": {
     "end_time": "2022-04-14T05:47:09.179889Z",
     "start_time": "2022-04-14T05:47:09.160296Z"
    }
   },
   "outputs": [],
   "source": [
    "###\n",
    "#   functions\n",
    "###\n",
    "\n",
    "\n",
    "def loadConstants(build):  \n",
    "    path_dict = {\n",
    "                'hg19': (\"/dors/capra_lab/users/fongsl/data/hg19_blacklist_gap_ensemblexon.bed\", \"/dors/capra_lab/data/dna/human/hg19/hg19_trim.chrom.sizes\"),\n",
    "                'hg38': (\"/dors/capra_lab/users/fongsl/data/hg38_blacklist_gap_ensemblexon.bed\", \"/dors/capra_lab/data/dna/human/hg38/hg38_trim.chrom.sizes\"),\n",
    "                'mm10': (\"/dors/capra_lab/users/bentonml/data/dna/mm10/mm10_blacklist_gap.bed\", \"/dors/capra_lab/data/dna/mouse/mm10/mm10_trim.chrom.sizes\")\n",
    "                    }\n",
    "    blacklist, sizes = path_dict[build]\n",
    "    \n",
    "    return blacklist, sizes\n",
    "\n",
    "\n",
    "def shuffle(test_bed, shuf_path, sample_id, iter_, build, include):\n",
    "    \n",
    "    out = os.path.join(shuf_path, f\"shuf-{sample_id}-{iter_}.bed\")  # write file\n",
    "\n",
    "    BLACKLIST, CHROM_SZ = loadConstants(build)\n",
    "\n",
    "    if include is not None:    \n",
    "        #-maxTries 5000\n",
    "        BEDshuf = f\"bedtools shuffle -i {test_bed} -g {CHROM_SZ} -chrom -noOverlapping  -incl {include} -excl {test_bed}> {out}\" \n",
    "\n",
    "    else:\n",
    "        BEDshuf = f\"bedtools shuffle -i {test_bed} -g {CHROM_SZ} -excl {BLACKLIST} -chrom -noOverlapping -maxTries 5000 > {out}\" \n",
    "\n",
    "    #print(BEDshuf)\n",
    "    os.system(BEDshuf)"
   ]
  },
  {
   "cell_type": "code",
   "execution_count": 44,
   "id": "fc11a0bc",
   "metadata": {
    "ExecuteTime": {
     "end_time": "2022-04-14T05:47:10.384132Z",
     "start_time": "2022-04-14T05:47:10.121542Z"
    }
   },
   "outputs": [
    {
     "name": "stdout",
     "output_type": "stream",
     "text": [
      "number of cores 16\n",
      "[Parallel(n_jobs=16)]: Using backend ThreadingBackend with 16 concurrent workers.\n",
      "[Parallel(n_jobs=16)]: Done   0 out of   0 | elapsed:    0.0s finished\n"
     ]
    }
   ],
   "source": [
    "###\n",
    "#   Main\n",
    "###\n",
    "\n",
    "\n",
    "def main(argv):\n",
    "    \n",
    "    \n",
    "    #num_cores = multiprocessing.cpu_count()\n",
    "    num_cores = 16\n",
    "    print(\"number of cores\", num_cores)\n",
    "\n",
    "    # run parallel jobs\n",
    "\n",
    "    Parallel(n_jobs=num_cores, verbose=100, prefer=\"threads\")(delayed(shuffle)(TEST_BED, SHUF_PATH, SAMPLE_ID, i, BUILD, INCLUDE) for i in np.arange(ITERS))\n",
    "\n",
    "\n",
    "    shuffle(TEST_BED, SHUF_PATH, SAMPLE_ID, ITERS, BUILD, INCLUDE)\n",
    "    \n",
    "if __name__ == \"__main__\":\n",
    "    main(sys.argv[1:])"
   ]
  },
  {
   "cell_type": "markdown",
   "id": "8af696cd",
   "metadata": {},
   "source": [
    "## -chrom function is not working perfectly. Especially for chr1,2,3"
   ]
  },
  {
   "cell_type": "code",
   "execution_count": 45,
   "id": "164117c3",
   "metadata": {
    "ExecuteTime": {
     "end_time": "2022-04-14T05:47:11.864321Z",
     "start_time": "2022-04-14T05:47:11.830247Z"
    }
   },
   "outputs": [
    {
     "name": "stdout",
     "output_type": "stream",
     "text": [
      "   1723 chr1\n",
      "    734 chr10\n",
      "    865 chr11\n",
      "    900 chr12\n",
      "    322 chr13\n",
      "    651 chr14\n",
      "    547 chr15\n",
      "    659 chr16\n",
      "    827 chr17\n",
      "    231 chr18\n",
      "    892 chr19\n",
      "   1209 chr2\n",
      "    421 chr20\n",
      "    162 chr21\n",
      "    332 chr22\n",
      "   1017 chr3\n",
      "    565 chr4\n",
      "    871 chr5\n",
      "    909 chr6\n",
      "    770 chr7\n",
      "    609 chr8\n",
      "    616 chr9\n"
     ]
    }
   ],
   "source": [
    "%%bash\n",
    "cut -f 1 /data/hodges_lab/ATAC-STARR_B-cells/results/results_human-evolution/global_cis_trans/cis+trans-defined_regions/cis_HH-vs-MH.regions.bed | sort | uniq -c\n"
   ]
  },
  {
   "cell_type": "code",
   "execution_count": 46,
   "id": "b4468063",
   "metadata": {
    "ExecuteTime": {
     "end_time": "2022-04-14T05:47:12.652070Z",
     "start_time": "2022-04-14T05:47:12.564306Z"
    }
   },
   "outputs": [
    {
     "name": "stdout",
     "output_type": "stream",
     "text": [
      "    750 chr1\n",
      "    758 chr10\n",
      "    777 chr11\n",
      "    731 chr12\n",
      "    600 chr13\n",
      "    703 chr14\n",
      "    719 chr15\n",
      "    760 chr16\n",
      "    730 chr17\n",
      "    599 chr18\n",
      "    763 chr19\n",
      "    763 chr2\n",
      "    701 chr20\n",
      "    527 chr21\n",
      "    689 chr22\n",
      "    795 chr3\n",
      "    696 chr4\n",
      "    758 chr5\n",
      "    750 chr6\n",
      "    784 chr7\n",
      "    718 chr8\n",
      "    761 chr9\n"
     ]
    }
   ],
   "source": [
    "%%bash\n",
    "cut -f 1 /data/hodges_lab/ATAC-STARR_B-cells/data/hansen-fong/bkgd_sharedAcc_regions/shuf-cis_HH-vs-MH.regions-0.bed | sort | uniq -c"
   ]
  },
  {
   "cell_type": "code",
   "execution_count": null,
   "id": "0adbbac5",
   "metadata": {},
   "outputs": [],
   "source": []
  }
 ],
 "metadata": {
  "kernelspec": {
   "display_name": "Python (sfenv)",
   "language": "python",
   "name": "sfenv"
  },
  "language_info": {
   "codemirror_mode": {
    "name": "ipython",
    "version": 3
   },
   "file_extension": ".py",
   "mimetype": "text/x-python",
   "name": "python",
   "nbconvert_exporter": "python",
   "pygments_lexer": "ipython3",
   "version": "3.6.5"
  },
  "toc": {
   "base_numbering": 1,
   "nav_menu": {},
   "number_sections": true,
   "sideBar": true,
   "skip_h1_title": false,
   "title_cell": "Table of Contents",
   "title_sidebar": "Contents",
   "toc_cell": false,
   "toc_position": {},
   "toc_section_display": true,
   "toc_window_display": false
  }
 },
 "nbformat": 4,
 "nbformat_minor": 5
}
