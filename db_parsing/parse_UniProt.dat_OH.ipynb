{
 "cells": [
  {
   "cell_type": "markdown",
   "id": "7f4c47b9",
   "metadata": {},
   "source": [
    "# Parsing uniprot taxanomic division data for host information\n",
    "\n",
    "20221115 - sarahfong\n",
    "\n",
    "\n",
    "## This script does the following:\n",
    "1. download uniprot taxanomic division data (.dat.gz) to current working directory\n",
    "2. unzip .dat.gz file\n",
    "3. parse .dat files for protein id, OH field (hosts)\n",
    "4. store protein_ids, host info as dictionaries\n",
    "5. write dictionary to .txt\n",
    "6. rezip .dat file.\n",
    "\n",
    "\n",
    "## web resources\n",
    "\n",
    "### UNIPROT README\n",
    "  https://ftp.uniprot.org/pub/databases/uniprot/current_release/knowledgebase/taxonomic_divisions/README\n",
    "\n",
    "### user manual and annotation guide\n",
    "\n",
    "https://web.expasy.org/docs/userman.html"
   ]
  },
  {
   "cell_type": "markdown",
   "id": "1e0d3825",
   "metadata": {},
   "source": [
    "# set up run "
   ]
  },
  {
   "cell_type": "code",
   "execution_count": 1,
   "id": "e07764fb",
   "metadata": {},
   "outputs": [],
   "source": [
    "## import modules \n",
    "import os, sys"
   ]
  },
  {
   "cell_type": "markdown",
   "id": "5e7bc710",
   "metadata": {},
   "source": [
    "## Functions"
   ]
  },
  {
   "cell_type": "code",
   "execution_count": 2,
   "id": "4f1fc991",
   "metadata": {},
   "outputs": [],
   "source": [
    "def download_uniprot(handle):\n",
    "    \"\"\"\n",
    "    # returns local download from uniprot\n",
    "    \n",
    "    # checks that handle has been downloaded before running. \n",
    "    \n",
    "    input \n",
    "        handle name (str)\n",
    "        \n",
    "    output\n",
    "        absolute path (str) to local file name\n",
    "        \n",
    "    method\n",
    "        1. check that handle name is in correct format\n",
    "        2. write ftp wget command to download handle locally\n",
    "        3. check that file has not already been downloaded\n",
    "            if not downloaded - download file\n",
    "            if downloaded - skip\n",
    "        4. return absolute path to local download\n",
    "        \n",
    "    \"\"\"\n",
    "    \n",
    "    #1\n",
    "    if \".gz\" not in handle:\n",
    "        handle = handle + \".gz\"\n",
    "        print(\"updating handle name\", handle)\n",
    "    \n",
    "    #2\n",
    "    http = \"https://ftp.uniprot.org/pub/databases/uniprot/current_release/knowledgebase/taxonomic_divisions/\"\n",
    "    http_handle = os.path.join(http, handle)\n",
    "    \n",
    "    cmd = f\"wget {http_handle}\"\n",
    "    \n",
    "    local_file = os.path.join(os.getcwd(),handle)  # name for local handle\n",
    "    \n",
    "    #3 check if local handle exists befre downloading. \n",
    "    if os.path.exists(local_file) is False:\n",
    "        os.system(cmd)\n",
    "        print(\"downloading from ftp\", http_handle)\n",
    "\n",
    "    else:\n",
    "        print(\"already downloaded locally\", local_file)\n",
    "    \n",
    "    #4\n",
    "    return local_file\n",
    "    "
   ]
  },
  {
   "cell_type": "code",
   "execution_count": 3,
   "id": "b9b98bbe",
   "metadata": {},
   "outputs": [],
   "source": [
    "def rezip_file(unzipped_handle):\n",
    "\n",
    "    # if file is unzipped, rezip it\n",
    "    \n",
    "    unzipped_file_name = os.path.join(os.getcwd(), unzipped_handle)\n",
    "    cmd = f\"gzip {unzipped_file_name}\"    \n",
    "    \n",
    "    if os.path.exists(unzipped_file_name) is True:  # only rezip if unzipped\n",
    "        os.system(cmd)\n",
    "\n",
    "    else:\n",
    "        print(\"zipped already. Remember to unzip next time\")\n",
    "\n",
    "    zipped_file = unzipped_file_name + \".gz\"\n",
    "    \n",
    "    return zipped_file"
   ]
  },
  {
   "cell_type": "code",
   "execution_count": 4,
   "id": "3dc41fc6",
   "metadata": {},
   "outputs": [],
   "source": [
    "def unzip_file(zipped_file_name):\n",
    "    \n",
    "    # if file is zipped, unzip it\n",
    "    \n",
    "    if os.path.exists(zipped_file_name) is True:\n",
    "        cmd = f\"gunzip {zipped_file_name}\"\n",
    "        os.system(cmd)\n",
    "\n",
    "    else:\n",
    "        print(\"unzipped already. Remember to rezip\")\n",
    "\n",
    "    unzipped_file = zipped_file_name.strip(\".gz\")\n",
    "    \n",
    "    return unzipped_file\n",
    "    "
   ]
  },
  {
   "cell_type": "code",
   "execution_count": 5,
   "id": "07dabdbd",
   "metadata": {},
   "outputs": [],
   "source": [
    "def append_dict_val_list(dict_, key, val):\n",
    "    \"\"\"\n",
    "    # returns updated dictionary with new key, value_list or old key, updated value_list\n",
    "    \n",
    "    input \n",
    "        dict_ (dict)\n",
    "        key (str)\n",
    "        val (str)\n",
    "        \n",
    "    output\n",
    "        updated dict_ (dict) with new key:value_list or updated key:value_list\n",
    "        (1) new key:value_list\n",
    "        (2) old key:value_list.append(new_value) \n",
    "        \n",
    "        \n",
    "    method\n",
    "\n",
    "        1. if key not in dictionary, add new key, value_list with single value item\n",
    "        2. if key in dictionary, \n",
    "            2.1 retrieve key, value_list, \n",
    "            2.2 append value to value_list, \n",
    "            2.3 update key        \n",
    "        3. return updated dictionary\n",
    "        \n",
    "    \"\"\"\n",
    "    \n",
    "    if key not in dict_.keys():  #1 add new key to dictionary w/ value as list of values\n",
    "        dict_[key]=[val]\n",
    "\n",
    "    elif key in dict_.keys():  #2 already existing key, append value to list of values. \n",
    "        val_list=dict_[key]   #2.1 get value list for the key\n",
    "        \n",
    "        if val not in val_list:\n",
    "            val_list.append(val)  #2.2 append the new value to the list of values\n",
    "        \n",
    "            dict_[key]=val_list  #2.3 update the dictionary w/ new val list. \n",
    "        \n",
    "    #3\n",
    "    return dict_\n",
    "        "
   ]
  },
  {
   "cell_type": "code",
   "execution_count": 9,
   "id": "29cb788f",
   "metadata": {},
   "outputs": [],
   "source": [
    "def write_dict_file(dict_, filename):\n",
    "    \n",
    "    # writes dictionary to a text file. \n",
    "    \n",
    "    with open(filename, 'w') as f:\n",
    "        for key, value in dict_.items():\n",
    "            value_str = \",\".join(value)\n",
    "            f.write(f\"{key}\\t{value_str}\\n\")"
   ]
  },
  {
   "cell_type": "markdown",
   "id": "a43e755d",
   "metadata": {},
   "source": [
    "## Variables - Hard-coded "
   ]
  },
  {
   "cell_type": "code",
   "execution_count": 7,
   "id": "54e25e99",
   "metadata": {},
   "outputs": [],
   "source": [
    "\"\"\"\n",
    "options for downloads\n",
    "\n",
    "# possible taxa\n",
    "possible_names = [\n",
    "                    \"archea\", \"fungi\", \"human\", \"bacteria\", \n",
    "                    \"mammals\", \"plants\", \"rodents\", \"vertebrates\",\n",
    "                    \"invertebrates\", \"viruses\"\n",
    "                   ]\n",
    "                   \n",
    "# possible db\n",
    "possible_db = [\"sprot\", \"trembl\"]\n",
    "\n",
    "\"\"\"\n",
    "\n",
    "NAME = \"viruses\"\n",
    "DB = \"sprot\"\n",
    "HANDLE = f\"uniprot_{DB}_{NAME}.dat\"\n",
    "\n",
    "\"\"\"\n",
    "Designate line w/ host info associated with each protein id. \n",
    "If no host info, ID will not be written\n",
    "\"\"\"\n",
    "LINE_KEY = \"OH\" "
   ]
  },
  {
   "cell_type": "markdown",
   "id": "0b4ec8b7",
   "metadata": {},
   "source": [
    "# Main "
   ]
  },
  {
   "cell_type": "code",
   "execution_count": 10,
   "id": "86d28e0a",
   "metadata": {},
   "outputs": [
    {
     "name": "stdout",
     "output_type": "stream",
     "text": [
      "updating handle name uniprot_sprot_viruses.dat.gz\n",
      "already downloaded locally /wynton/home/ahituv/fongsl/tools/db_parsing/uniprot_sprot_viruses.dat.gz\n"
     ]
    },
    {
     "data": {
      "text/plain": [
       "'/wynton/home/ahituv/fongsl/tools/db_parsing/uniprot_sprot_viruses.dat.gz'"
      ]
     },
     "execution_count": 10,
     "metadata": {},
     "output_type": "execute_result"
    }
   ],
   "source": [
    "\"\"\"\n",
    "writes 3 files with host, protein_id, and taxon_id information\n",
    "\n",
    "method\n",
    "    1. ftp download the handle (if not already downloaded)\n",
    "    2. unzip the download\n",
    "    3. parse the unzipped file for ID, LINE_KEY info\n",
    "    4. make a bunch of dictionaries to collect data\n",
    "        species_id = dict[species_taxid]:[protein_id1, protein_id2, etc.]\n",
    "        id_species = dict[protein_id]:[speices_taxid1, species_taxid2, etc.]\n",
    "        tax_id = dict[species_taxid]:[species name]\n",
    "        \n",
    "        tax_id is NCBI_taxid alpha-numeric id\n",
    "        \n",
    "    5. For each protein ID, \n",
    "        if LINE_KEY info - add information to dictionaries\n",
    "        if no LINE_KEY info - ID is not added to dictionary\n",
    "        \n",
    "    6. write dictionaries as text files\n",
    "    7. rezip local downloaded file\n",
    "    \n",
    "\"\"\"\n",
    "\n",
    "#1 ftp download the .dat file locally\n",
    "ZIPPED_DL = download_uniprot(HANDLE)  \n",
    "\n",
    "#2 unzip the file\n",
    "FILE = unzip_file(ZIPPED_DL)  \n",
    "\n",
    "#3\n",
    "with open(FILE, \"r\") as file:  \n",
    "\n",
    "    #FILE_ID = FILE.split(\"/\")[-1] # name of the file\n",
    "\n",
    "    #4 dictionaries for collecting key, values\n",
    "    species_id, id_species, taxid_name = {}, {}, {} \n",
    "    \n",
    "    for line in file.readlines():\n",
    "        \n",
    "        line_id = line.split(\" \")[0] # get the first index identifier (str)\n",
    "        \n",
    "        #5 parse and add data to dictionary\n",
    "        if line_id == \"ID\":\n",
    "            ID = line.split(\" \")[3]  # ID value. Will update w/ each instance of ID row. \n",
    "\n",
    "        if line_id == LINE_KEY:  # get the OH\n",
    "\n",
    "            SPECIES_ID = ((line.split(\";\")[0]).split('OH')[1]).split(\" \")[-1]  #get species NCBI_taxID, plus string formatting\n",
    "            SPECIES_NAME = line.split(\";\")[1]  #get species name\n",
    "\n",
    "            # add to the dictionaries\n",
    "            species_id = append_dict_val_list(species_id, SPECIES_ID, ID)\n",
    "            id_species = append_dict_val_list(id_species, ID, SPECIES_ID)\n",
    "            taxid_name = append_dict_val_list(taxid_name, SPECIES_ID, SPECIES_NAME)\n",
    "\n",
    "#6 write dictionaries to text files\n",
    "write_dict_file(species_id, os.path.join(os.getcwd(), f\"{HANDLE}.species-id.txt\"))\n",
    "write_dict_file(id_species, os.path.join(os.getcwd(), f\"{HANDLE}.id-species.txt\"))\n",
    "write_dict_file(taxid_name, os.path.join(os.getcwd(), f\"{HANDLE}.taxid_name.txt\"))\n",
    "\n",
    "#7 rezip the download file\n",
    "rezip_file(HANDLE)            "
   ]
  },
  {
   "cell_type": "code",
   "execution_count": null,
   "id": "1a4563b3",
   "metadata": {},
   "outputs": [],
   "source": []
  }
 ],
 "metadata": {
  "kernelspec": {
   "display_name": "Python 3 (ipykernel)",
   "language": "python",
   "name": "python3"
  },
  "language_info": {
   "codemirror_mode": {
    "name": "ipython",
    "version": 3
   },
   "file_extension": ".py",
   "mimetype": "text/x-python",
   "name": "python",
   "nbconvert_exporter": "python",
   "pygments_lexer": "ipython3",
   "version": "3.9.12"
  }
 },
 "nbformat": 4,
 "nbformat_minor": 5
}
